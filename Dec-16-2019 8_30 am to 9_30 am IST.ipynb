{
 "cells": [
  {
   "cell_type": "code",
   "execution_count": 32,
   "metadata": {},
   "outputs": [],
   "source": [
    "def fone():\n",
    "    print(\"fone called/executed\")\n",
    "    \n",
    "def ftwo():\n",
    "    print(\"ftwo called/executed\")"
   ]
  },
  {
   "cell_type": "code",
   "execution_count": 33,
   "metadata": {},
   "outputs": [
    {
     "name": "stdout",
     "output_type": "stream",
     "text": [
      "fone called/executed\n"
     ]
    }
   ],
   "source": [
    "fone()"
   ]
  },
  {
   "cell_type": "code",
   "execution_count": 34,
   "metadata": {},
   "outputs": [
    {
     "name": "stdout",
     "output_type": "stream",
     "text": [
      "ftwo called/executed\n"
     ]
    }
   ],
   "source": [
    "ftwo()"
   ]
  },
  {
   "cell_type": "code",
   "execution_count": 35,
   "metadata": {},
   "outputs": [],
   "source": [
    "def fone():\n",
    "    print(\"fone called/executed\")\n",
    "    ftwo()\n",
    "    \n",
    "def ftwo():\n",
    "    print(\"ftwo called/executed\")"
   ]
  },
  {
   "cell_type": "code",
   "execution_count": 36,
   "metadata": {},
   "outputs": [
    {
     "name": "stdout",
     "output_type": "stream",
     "text": [
      "fone called/executed\n",
      "ftwo called/executed\n"
     ]
    }
   ],
   "source": [
    "fone()"
   ]
  },
  {
   "cell_type": "code",
   "execution_count": 37,
   "metadata": {},
   "outputs": [],
   "source": [
    "def fone():\n",
    "    print(\"fone called/executed\")\n",
    "    \n",
    "def ftwo():\n",
    "    fone()\n",
    "    print(\"ftwo called/executed\")"
   ]
  },
  {
   "cell_type": "code",
   "execution_count": 38,
   "metadata": {},
   "outputs": [
    {
     "name": "stdout",
     "output_type": "stream",
     "text": [
      "fone called/executed\n",
      "ftwo called/executed\n"
     ]
    }
   ],
   "source": [
    "ftwo()"
   ]
  },
  {
   "cell_type": "code",
   "execution_count": null,
   "metadata": {},
   "outputs": [],
   "source": []
  },
  {
   "cell_type": "code",
   "execution_count": null,
   "metadata": {},
   "outputs": [],
   "source": []
  },
  {
   "cell_type": "code",
   "execution_count": null,
   "metadata": {},
   "outputs": [],
   "source": []
  },
  {
   "cell_type": "code",
   "execution_count": 1,
   "metadata": {},
   "outputs": [],
   "source": [
    "class PCls:\n",
    "    def mone(self):\n",
    "        print(\"mone of the parent class called/executed\")\n",
    "        \n",
    "class CCls(PCls):\n",
    "    def mtwo(self):\n",
    "        print(\"mtwo of the child class called/executed\")"
   ]
  },
  {
   "cell_type": "code",
   "execution_count": 2,
   "metadata": {},
   "outputs": [],
   "source": [
    "p = PCls()"
   ]
  },
  {
   "cell_type": "code",
   "execution_count": 3,
   "metadata": {},
   "outputs": [
    {
     "name": "stdout",
     "output_type": "stream",
     "text": [
      "mone of the parent class called/executed\n"
     ]
    }
   ],
   "source": [
    "p.mone()"
   ]
  },
  {
   "cell_type": "code",
   "execution_count": 4,
   "metadata": {},
   "outputs": [],
   "source": [
    "c = CCls()"
   ]
  },
  {
   "cell_type": "code",
   "execution_count": 5,
   "metadata": {},
   "outputs": [
    {
     "name": "stdout",
     "output_type": "stream",
     "text": [
      "mone of the parent class called/executed\n"
     ]
    }
   ],
   "source": [
    "c.mone()"
   ]
  },
  {
   "cell_type": "code",
   "execution_count": 6,
   "metadata": {},
   "outputs": [
    {
     "name": "stdout",
     "output_type": "stream",
     "text": [
      "mtwo of the child class called/executed\n"
     ]
    }
   ],
   "source": [
    "c.mtwo()"
   ]
  },
  {
   "cell_type": "code",
   "execution_count": 8,
   "metadata": {},
   "outputs": [],
   "source": [
    "## Relating methods in related classes (parent-child classes)\n",
    "class PCls:\n",
    "    def mone(self):\n",
    "        print(\"mone of the parent class called/executed\")\n",
    "        \n",
    "class CCls(PCls):\n",
    "    def mtwo(self):\n",
    "        super(CCls,self).mone()\n",
    "        print(\"mtwo of the child class called/executed\")"
   ]
  },
  {
   "cell_type": "code",
   "execution_count": 9,
   "metadata": {},
   "outputs": [],
   "source": [
    "p = PCls()"
   ]
  },
  {
   "cell_type": "code",
   "execution_count": 10,
   "metadata": {},
   "outputs": [
    {
     "name": "stdout",
     "output_type": "stream",
     "text": [
      "mone of the parent class called/executed\n"
     ]
    }
   ],
   "source": [
    "p.mone()"
   ]
  },
  {
   "cell_type": "code",
   "execution_count": 11,
   "metadata": {},
   "outputs": [],
   "source": [
    "c = CCls()"
   ]
  },
  {
   "cell_type": "code",
   "execution_count": 12,
   "metadata": {},
   "outputs": [
    {
     "name": "stdout",
     "output_type": "stream",
     "text": [
      "mone of the parent class called/executed\n"
     ]
    }
   ],
   "source": [
    "c.mone()"
   ]
  },
  {
   "cell_type": "code",
   "execution_count": 13,
   "metadata": {
    "scrolled": true
   },
   "outputs": [
    {
     "name": "stdout",
     "output_type": "stream",
     "text": [
      "mone of the parent class called/executed\n",
      "mtwo of the child class called/executed\n"
     ]
    }
   ],
   "source": [
    "c.mtwo()"
   ]
  },
  {
   "cell_type": "code",
   "execution_count": 17,
   "metadata": {},
   "outputs": [],
   "source": [
    "## Relating methods that are constructor as part of the related classes (parent-child classes)\n",
    "class PCls:\n",
    "    def __init__(self):\n",
    "        print(\"Parent class constructor called/executed, Parent class object contents initialized\")\n",
    "        \n",
    "class CCls(PCls):\n",
    "    def __init__(self):\n",
    "        super(CCls,self).__init__()\n",
    "        print(\"Child class constructor called/executed, Child class object contents initialized\")"
   ]
  },
  {
   "cell_type": "code",
   "execution_count": 18,
   "metadata": {},
   "outputs": [
    {
     "name": "stdout",
     "output_type": "stream",
     "text": [
      "Parent class constructor called/executed, Parent class object contents initialized\n"
     ]
    }
   ],
   "source": [
    "p = PCls()"
   ]
  },
  {
   "cell_type": "code",
   "execution_count": 19,
   "metadata": {},
   "outputs": [
    {
     "name": "stdout",
     "output_type": "stream",
     "text": [
      "Parent class constructor called/executed, Parent class object contents initialized\n",
      "Child class constructor called/executed, Child class object contents initialized\n"
     ]
    }
   ],
   "source": [
    "c = CCls()"
   ]
  },
  {
   "cell_type": "markdown",
   "metadata": {},
   "source": [
    "## Hierarchical Inheritance"
   ]
  },
  {
   "cell_type": "code",
   "execution_count": 21,
   "metadata": {},
   "outputs": [],
   "source": [
    "class BClass:\n",
    "    def __init__(self,num,name):\n",
    "        self.num = num\n",
    "        self.name = name\n",
    "        \n",
    "    def getNum(self):\n",
    "        return self.num\n",
    "    \n",
    "    def getName(self):\n",
    "        return self.name\n",
    "    \n",
    "class Product(BClass):\n",
    "    def __init__(self,pid,pname,rpu,qty):\n",
    "        super(Product,self).__init__(pid,pname)\n",
    "        self.rpu = rpu\n",
    "        self.qty = qty\n",
    "        \n",
    "    def dispProdDtls(self):\n",
    "        print(\"Product Id :: \",self.getNum())\n",
    "        print(\"Name of the Product :: \",self.getName())\n",
    "        print(\"Rate per unit of the product sold :: $\",self.rpu)\n",
    "        print(\"Number of Units sold :: \",self.qty)\n",
    "        print(\"Bill Amount Payable :: $\",self.rpu*self.qty)\n",
    "        \n",
    "        \n",
    "class Employee(BClass):\n",
    "    def __init__(self,eid,ena,bsal):\n",
    "        super(Employee,self).__init__(eid,ena)\n",
    "        self.sal = bsal\n",
    "        \n",
    "    def dispEmpDtls(self):\n",
    "        print(\"Employee Id :: \",self.getNum())\n",
    "        print(\"Name of the Employee ::  \",self.getName())\n",
    "        print(\"Basic Salary of the Employee :: \",self.sal)\n",
    "            "
   ]
  },
  {
   "cell_type": "code",
   "execution_count": 22,
   "metadata": {},
   "outputs": [],
   "source": [
    "p1 = Product(1001,'Pencil',1.5,10)"
   ]
  },
  {
   "cell_type": "code",
   "execution_count": 23,
   "metadata": {},
   "outputs": [
    {
     "name": "stdout",
     "output_type": "stream",
     "text": [
      "Product Id ::  1001\n",
      "Name of the Product ::  Pencil\n",
      "Rate per unit of the product sold :: $ 1.5\n",
      "Number of Units sold ::  10\n",
      "Bill Amount Payable :: $ 15.0\n"
     ]
    }
   ],
   "source": [
    "p1.dispProdDtls()"
   ]
  },
  {
   "cell_type": "code",
   "execution_count": 24,
   "metadata": {},
   "outputs": [],
   "source": [
    "plist = [Product(1,'Pen',3.25,5),Product(2,'Eclair',0.5,23),Product(3,'Mac-Veggie',2.5,3)]"
   ]
  },
  {
   "cell_type": "code",
   "execution_count": 25,
   "metadata": {},
   "outputs": [
    {
     "name": "stdout",
     "output_type": "stream",
     "text": [
      "Product Id ::  1\n",
      "Name of the Product ::  Pen\n",
      "Rate per unit of the product sold :: $ 3.25\n",
      "Number of Units sold ::  5\n",
      "Bill Amount Payable :: $ 16.25\n",
      "======================\n",
      "Product Id ::  2\n",
      "Name of the Product ::  Eclair\n",
      "Rate per unit of the product sold :: $ 0.5\n",
      "Number of Units sold ::  23\n",
      "Bill Amount Payable :: $ 11.5\n",
      "======================\n",
      "Product Id ::  3\n",
      "Name of the Product ::  Mac-Veggie\n",
      "Rate per unit of the product sold :: $ 2.5\n",
      "Number of Units sold ::  3\n",
      "Bill Amount Payable :: $ 7.5\n",
      "======================\n"
     ]
    }
   ],
   "source": [
    "for p in plist:\n",
    "    p.dispProdDtls()\n",
    "    print(\"======================\")"
   ]
  },
  {
   "cell_type": "code",
   "execution_count": 26,
   "metadata": {},
   "outputs": [],
   "source": [
    "e1 = Employee(2001,'Dhoni',4500)"
   ]
  },
  {
   "cell_type": "code",
   "execution_count": 27,
   "metadata": {},
   "outputs": [
    {
     "name": "stdout",
     "output_type": "stream",
     "text": [
      "Employee Id ::  2001\n",
      "Name of the Employee ::   Dhoni\n",
      "Basic Salary of the Employee ::  4500\n"
     ]
    }
   ],
   "source": [
    "e1.dispEmpDtls()"
   ]
  },
  {
   "cell_type": "code",
   "execution_count": 28,
   "metadata": {},
   "outputs": [],
   "source": [
    "e2 = Employee(2,'Virat',2300)"
   ]
  },
  {
   "cell_type": "code",
   "execution_count": 29,
   "metadata": {},
   "outputs": [
    {
     "name": "stdout",
     "output_type": "stream",
     "text": [
      "Employee Id ::  2\n",
      "Name of the Employee ::   Virat\n",
      "Basic Salary of the Employee ::  2300\n"
     ]
    }
   ],
   "source": [
    "e2.dispEmpDtls()"
   ]
  },
  {
   "cell_type": "code",
   "execution_count": 30,
   "metadata": {},
   "outputs": [],
   "source": [
    "elist = [Employee(1001,'Trump',25000),Employee(1002,'Chang',45000),Employee(1004,'James',50000)]"
   ]
  },
  {
   "cell_type": "code",
   "execution_count": 31,
   "metadata": {},
   "outputs": [
    {
     "name": "stdout",
     "output_type": "stream",
     "text": [
      "Employee Id ::  1001\n",
      "Name of the Employee ::   Trump\n",
      "Basic Salary of the Employee ::  25000\n",
      "*************************\n",
      "Employee Id ::  1002\n",
      "Name of the Employee ::   Chang\n",
      "Basic Salary of the Employee ::  45000\n",
      "*************************\n",
      "Employee Id ::  1004\n",
      "Name of the Employee ::   James\n",
      "Basic Salary of the Employee ::  50000\n",
      "*************************\n"
     ]
    }
   ],
   "source": [
    "for e in elist:\n",
    "    e.dispEmpDtls()\n",
    "    print(\"*************************\")"
   ]
  },
  {
   "cell_type": "code",
   "execution_count": null,
   "metadata": {},
   "outputs": [],
   "source": []
  }
 ],
 "metadata": {
  "kernelspec": {
   "display_name": "Python 3",
   "language": "python",
   "name": "python3"
  },
  "language_info": {
   "codemirror_mode": {
    "name": "ipython",
    "version": 3
   },
   "file_extension": ".py",
   "mimetype": "text/x-python",
   "name": "python",
   "nbconvert_exporter": "python",
   "pygments_lexer": "ipython3",
   "version": "3.7.1"
  }
 },
 "nbformat": 4,
 "nbformat_minor": 2
}
