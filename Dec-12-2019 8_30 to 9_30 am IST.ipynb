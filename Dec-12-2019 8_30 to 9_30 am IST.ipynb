{
 "cells": [
  {
   "cell_type": "code",
   "execution_count": 1,
   "metadata": {},
   "outputs": [],
   "source": [
    "class Box:\n",
    "    def storeBoxData(self,height,width,depth):\n",
    "        self.h = height\n",
    "        self.w = width\n",
    "        self.d = depth\n",
    "        \n",
    "    def computeVolume(self):\n",
    "        self.vol = self.h*self.w*self.d\n",
    "    \n",
    "    def dispBoxDtls(self):\n",
    "        print(\"Height dimension of the Box :: \",self.h)\n",
    "        print(\"Width dimension of the Box :: \",self.w)\n",
    "        print(\"Depth dimension of the Box :: \",self.d)\n",
    "        self.computeVolume()\n",
    "        print(\"Volume of the Box is :: \",self.vol)"
   ]
  },
  {
   "cell_type": "code",
   "execution_count": 2,
   "metadata": {},
   "outputs": [],
   "source": [
    "# Box object created with the name as b1\n",
    "b1 = Box()"
   ]
  },
  {
   "cell_type": "code",
   "execution_count": 4,
   "metadata": {},
   "outputs": [],
   "source": [
    "# Initializing the contents of the Box object b1\n",
    "b1.storeBoxData(2,3,4)"
   ]
  },
  {
   "cell_type": "code",
   "execution_count": 5,
   "metadata": {},
   "outputs": [
    {
     "name": "stdout",
     "output_type": "stream",
     "text": [
      "Height dimension of the Box ::  2\n",
      "Width dimension of the Box ::  3\n",
      "Depth dimension of the Box ::  4\n",
      "Volume of the Box is ::  24\n"
     ]
    }
   ],
   "source": [
    "# Displaying the details of the Box object b1\n",
    "b1.dispBoxDtls()"
   ]
  },
  {
   "cell_type": "code",
   "execution_count": 6,
   "metadata": {},
   "outputs": [],
   "source": [
    "# b2 an object of the Box class is created\n",
    "b2 = Box()"
   ]
  },
  {
   "cell_type": "code",
   "execution_count": 7,
   "metadata": {},
   "outputs": [],
   "source": [
    "# Initialzing the contents of the Box object b2\n",
    "b2.storeBoxData(4,5,6)"
   ]
  },
  {
   "cell_type": "code",
   "execution_count": 9,
   "metadata": {},
   "outputs": [
    {
     "name": "stdout",
     "output_type": "stream",
     "text": [
      "Height dimension of the Box ::  4\n",
      "Width dimension of the Box ::  5\n",
      "Depth dimension of the Box ::  6\n",
      "Volume of the Box is ::  120\n"
     ]
    }
   ],
   "source": [
    "#Displaying the details of the Box object b2\n",
    "b2.dispBoxDtls()"
   ]
  },
  {
   "cell_type": "code",
   "execution_count": 10,
   "metadata": {},
   "outputs": [],
   "source": [
    "#4 box objects created as part of the Box list object.\n",
    "blist = [Box(),Box(),Box(),Box()]"
   ]
  },
  {
   "cell_type": "code",
   "execution_count": 11,
   "metadata": {},
   "outputs": [],
   "source": [
    "#Initializing the contents or the first box object as part of the list of boxes\n",
    "blist[0].storeBoxData(2,2,2)"
   ]
  },
  {
   "cell_type": "code",
   "execution_count": 12,
   "metadata": {},
   "outputs": [],
   "source": [
    "# Initializing the contents of the second box object contents...\n",
    "blist[1].storeBoxData(0,0,0)"
   ]
  },
  {
   "cell_type": "code",
   "execution_count": 13,
   "metadata": {},
   "outputs": [],
   "source": [
    "#Initializing the contents of the third box object\n",
    "blist[2].storeBoxData(4,4,4)"
   ]
  },
  {
   "cell_type": "code",
   "execution_count": 14,
   "metadata": {},
   "outputs": [],
   "source": [
    "# Initializing the details of the fourth box object as part of the box list\n",
    "blist[3].storeBoxData(4,3,2)"
   ]
  },
  {
   "cell_type": "code",
   "execution_count": 15,
   "metadata": {},
   "outputs": [
    {
     "name": "stdout",
     "output_type": "stream",
     "text": [
      "Height dimension of the Box ::  2\n",
      "Width dimension of the Box ::  2\n",
      "Depth dimension of the Box ::  2\n",
      "Volume of the Box is ::  8\n",
      "----------------------------------------\n",
      "Height dimension of the Box ::  0\n",
      "Width dimension of the Box ::  0\n",
      "Depth dimension of the Box ::  0\n",
      "Volume of the Box is ::  0\n",
      "----------------------------------------\n",
      "Height dimension of the Box ::  4\n",
      "Width dimension of the Box ::  4\n",
      "Depth dimension of the Box ::  4\n",
      "Volume of the Box is ::  64\n",
      "----------------------------------------\n",
      "Height dimension of the Box ::  4\n",
      "Width dimension of the Box ::  3\n",
      "Depth dimension of the Box ::  2\n",
      "Volume of the Box is ::  24\n",
      "----------------------------------------\n"
     ]
    }
   ],
   "source": [
    "#Displaying the details of each box object contents from the box list\n",
    "for b in blist:\n",
    "    b.dispBoxDtls()\n",
    "    print(\"----------------------------------------\")"
   ]
  },
  {
   "cell_type": "markdown",
   "metadata": {},
   "source": [
    "### Working with constructor"
   ]
  },
  {
   "cell_type": "code",
   "execution_count": 17,
   "metadata": {},
   "outputs": [],
   "source": [
    "class Box:\n",
    "    #Following is the definition of a constructor which is used to initialize the contents of an object when the object is created\n",
    "    def __init__(self,height,width,depth):\n",
    "        self.h = height\n",
    "        self.w = width\n",
    "        self.d = depth\n",
    "        \n",
    "    def getVolume(self):\n",
    "        return self.h*self.w*self.d\n",
    "    \n",
    "    def dispBoxDtls(self):\n",
    "        print(\"Height dimension of the box = \",self.h)\n",
    "        print(\"Width dimension of the box = \",self.w)\n",
    "        print(\"Depth dimension of the box = \",self.d)\n",
    "        print(\"Volume of the Box = \",self.getVolume())"
   ]
  },
  {
   "cell_type": "code",
   "execution_count": 18,
   "metadata": {},
   "outputs": [],
   "source": [
    "b1 = Box(2,3,4) #here the constructor is called and the object is created and initialized with the 3  member variables"
   ]
  },
  {
   "cell_type": "code",
   "execution_count": 19,
   "metadata": {},
   "outputs": [
    {
     "name": "stdout",
     "output_type": "stream",
     "text": [
      "Height dimension of the box =  2\n",
      "Width dimension of the box =  3\n",
      "Depth dimension of the box =  4\n",
      "Volume of the Box =  24\n"
     ]
    }
   ],
   "source": [
    "#Displaying the details of the Box object b1\n",
    "b1.dispBoxDtls()"
   ]
  },
  {
   "cell_type": "code",
   "execution_count": 20,
   "metadata": {},
   "outputs": [],
   "source": [
    "b2 = Box(4,5,6)"
   ]
  },
  {
   "cell_type": "code",
   "execution_count": 21,
   "metadata": {},
   "outputs": [
    {
     "name": "stdout",
     "output_type": "stream",
     "text": [
      "Height dimension of the box =  4\n",
      "Width dimension of the box =  5\n",
      "Depth dimension of the box =  6\n",
      "Volume of the Box =  120\n"
     ]
    }
   ],
   "source": [
    "b2.dispBoxDtls()"
   ]
  },
  {
   "cell_type": "code",
   "execution_count": 22,
   "metadata": {},
   "outputs": [],
   "source": [
    "# The following code creates a box list with three box objects with initial contents\n",
    "blist = [Box(2,2,2),Box(0,0,0),Box(6,5,4)]"
   ]
  },
  {
   "cell_type": "code",
   "execution_count": 23,
   "metadata": {},
   "outputs": [
    {
     "name": "stdout",
     "output_type": "stream",
     "text": [
      "Details of the Box object is as follows....\n",
      "Height dimension of the box =  2\n",
      "Width dimension of the box =  2\n",
      "Depth dimension of the box =  2\n",
      "Volume of the Box =  8\n",
      "-----------------------------------------------\n",
      "Details of the Box object is as follows....\n",
      "Height dimension of the box =  0\n",
      "Width dimension of the box =  0\n",
      "Depth dimension of the box =  0\n",
      "Volume of the Box =  0\n",
      "-----------------------------------------------\n",
      "Details of the Box object is as follows....\n",
      "Height dimension of the box =  6\n",
      "Width dimension of the box =  5\n",
      "Depth dimension of the box =  4\n",
      "Volume of the Box =  120\n",
      "-----------------------------------------------\n"
     ]
    }
   ],
   "source": [
    "for b in blist:\n",
    "    print(\"Details of the Box object is as follows....\")\n",
    "    b.dispBoxDtls()\n",
    "    print(\"-----------------------------------------------\")"
   ]
  },
  {
   "cell_type": "code",
   "execution_count": 25,
   "metadata": {},
   "outputs": [
    {
     "name": "stdout",
     "output_type": "stream",
     "text": [
      "Details of the Box # 1  are as follows...\n",
      "Height dimension of the box =  2\n",
      "Width dimension of the box =  2\n",
      "Depth dimension of the box =  2\n",
      "Volume of the Box =  8\n",
      "=============================================\n",
      "Details of the Box # 2  are as follows...\n",
      "Height dimension of the box =  0\n",
      "Width dimension of the box =  0\n",
      "Depth dimension of the box =  0\n",
      "Volume of the Box =  0\n",
      "=============================================\n",
      "Details of the Box # 3  are as follows...\n",
      "Height dimension of the box =  6\n",
      "Width dimension of the box =  5\n",
      "Depth dimension of the box =  4\n",
      "Volume of the Box =  120\n",
      "=============================================\n"
     ]
    }
   ],
   "source": [
    "for b in range(len(blist)):\n",
    "    print(\"Details of the Box #\",(b+1),\" are as follows...\")\n",
    "    blist[b].dispBoxDtls()\n",
    "    print(\"=============================================\")"
   ]
  },
  {
   "cell_type": "code",
   "execution_count": 26,
   "metadata": {},
   "outputs": [],
   "source": [
    "class PCls1:\n",
    "    def f1(self):\n",
    "        print(\"Parent class PCls1 method/function f1 called/executed\")\n",
    "        \n",
    "class CCls1(PCls1):\n",
    "    pass"
   ]
  },
  {
   "cell_type": "code",
   "execution_count": 27,
   "metadata": {},
   "outputs": [
    {
     "name": "stdout",
     "output_type": "stream",
     "text": [
      "Parent class PCls1 method/function f1 called/executed\n"
     ]
    }
   ],
   "source": [
    "p = PCls1()\n",
    "p.f1()"
   ]
  },
  {
   "cell_type": "code",
   "execution_count": 28,
   "metadata": {},
   "outputs": [
    {
     "name": "stdout",
     "output_type": "stream",
     "text": [
      "Parent class PCls1 method/function f1 called/executed\n"
     ]
    }
   ],
   "source": [
    "c = CCls1()\n",
    "c.f1()"
   ]
  },
  {
   "cell_type": "code",
   "execution_count": 29,
   "metadata": {},
   "outputs": [],
   "source": [
    "class POne:\n",
    "    def mone(self):\n",
    "        print(\"mone of the parent class called/executed...\")\n",
    "        \n",
    "class COne(POne):\n",
    "    def mtwo(self):\n",
    "        print(\"mtwo of the child class called/executed...\")"
   ]
  },
  {
   "cell_type": "code",
   "execution_count": 30,
   "metadata": {},
   "outputs": [
    {
     "name": "stdout",
     "output_type": "stream",
     "text": [
      "mone of the parent class called/executed...\n"
     ]
    }
   ],
   "source": [
    "p = POne()\n",
    "p.mone()"
   ]
  },
  {
   "cell_type": "code",
   "execution_count": 31,
   "metadata": {},
   "outputs": [
    {
     "ename": "AttributeError",
     "evalue": "'POne' object has no attribute 'mtwo'",
     "output_type": "error",
     "traceback": [
      "\u001b[1;31m---------------------------------------------------------------------------\u001b[0m",
      "\u001b[1;31mAttributeError\u001b[0m                            Traceback (most recent call last)",
      "\u001b[1;32m<ipython-input-31-dedabdf31d40>\u001b[0m in \u001b[0;36m<module>\u001b[1;34m\u001b[0m\n\u001b[1;32m----> 1\u001b[1;33m \u001b[0mp\u001b[0m\u001b[1;33m.\u001b[0m\u001b[0mmtwo\u001b[0m\u001b[1;33m(\u001b[0m\u001b[1;33m)\u001b[0m\u001b[1;33m\u001b[0m\u001b[1;33m\u001b[0m\u001b[0m\n\u001b[0m",
      "\u001b[1;31mAttributeError\u001b[0m: 'POne' object has no attribute 'mtwo'"
     ]
    }
   ],
   "source": [
    "p.mtwo()"
   ]
  },
  {
   "cell_type": "code",
   "execution_count": 32,
   "metadata": {},
   "outputs": [],
   "source": [
    "c = COne()"
   ]
  },
  {
   "cell_type": "code",
   "execution_count": 33,
   "metadata": {},
   "outputs": [
    {
     "name": "stdout",
     "output_type": "stream",
     "text": [
      "mone of the parent class called/executed...\n"
     ]
    }
   ],
   "source": [
    "c.mone()"
   ]
  },
  {
   "cell_type": "code",
   "execution_count": 34,
   "metadata": {},
   "outputs": [
    {
     "name": "stdout",
     "output_type": "stream",
     "text": [
      "mtwo of the child class called/executed...\n"
     ]
    }
   ],
   "source": [
    "c.mtwo()"
   ]
  }
 ],
 "metadata": {
  "kernelspec": {
   "display_name": "Python 3",
   "language": "python",
   "name": "python3"
  },
  "language_info": {
   "codemirror_mode": {
    "name": "ipython",
    "version": 3
   },
   "file_extension": ".py",
   "mimetype": "text/x-python",
   "name": "python",
   "nbconvert_exporter": "python",
   "pygments_lexer": "ipython3",
   "version": "3.7.1"
  }
 },
 "nbformat": 4,
 "nbformat_minor": 2
}
