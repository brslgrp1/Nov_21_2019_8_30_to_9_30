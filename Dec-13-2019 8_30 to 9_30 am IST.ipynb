{
 "cells": [
  {
   "cell_type": "markdown",
   "metadata": {},
   "source": [
    "### Single/Simple Inheritance"
   ]
  },
  {
   "cell_type": "code",
   "execution_count": 1,
   "metadata": {},
   "outputs": [],
   "source": [
    "class PCls:\n",
    "    def mone(self):\n",
    "        print(\"mone of the parent class PCls called/executed \")"
   ]
  },
  {
   "cell_type": "code",
   "execution_count": 2,
   "metadata": {},
   "outputs": [],
   "source": [
    "class CCls(PCls):\n",
    "    def mtwo(self):\n",
    "        print(\"mtwo of the child class CCls calle/executed\")"
   ]
  },
  {
   "cell_type": "code",
   "execution_count": 3,
   "metadata": {},
   "outputs": [],
   "source": [
    "p = PCls()"
   ]
  },
  {
   "cell_type": "code",
   "execution_count": 4,
   "metadata": {},
   "outputs": [
    {
     "name": "stdout",
     "output_type": "stream",
     "text": [
      "mone of the parent class PCls called/executed \n"
     ]
    }
   ],
   "source": [
    "p.mone()"
   ]
  },
  {
   "cell_type": "code",
   "execution_count": 5,
   "metadata": {},
   "outputs": [
    {
     "ename": "AttributeError",
     "evalue": "'PCls' object has no attribute 'mtwo'",
     "output_type": "error",
     "traceback": [
      "\u001b[1;31m---------------------------------------------------------------------------\u001b[0m",
      "\u001b[1;31mAttributeError\u001b[0m                            Traceback (most recent call last)",
      "\u001b[1;32m<ipython-input-5-dedabdf31d40>\u001b[0m in \u001b[0;36m<module>\u001b[1;34m\u001b[0m\n\u001b[1;32m----> 1\u001b[1;33m \u001b[0mp\u001b[0m\u001b[1;33m.\u001b[0m\u001b[0mmtwo\u001b[0m\u001b[1;33m(\u001b[0m\u001b[1;33m)\u001b[0m\u001b[1;33m\u001b[0m\u001b[1;33m\u001b[0m\u001b[0m\n\u001b[0m",
      "\u001b[1;31mAttributeError\u001b[0m: 'PCls' object has no attribute 'mtwo'"
     ]
    }
   ],
   "source": [
    "p.mtwo()"
   ]
  },
  {
   "cell_type": "code",
   "execution_count": 6,
   "metadata": {},
   "outputs": [],
   "source": [
    "c = CCls()"
   ]
  },
  {
   "cell_type": "code",
   "execution_count": 7,
   "metadata": {},
   "outputs": [
    {
     "name": "stdout",
     "output_type": "stream",
     "text": [
      "mone of the parent class PCls called/executed \n"
     ]
    }
   ],
   "source": [
    "c.mone()"
   ]
  },
  {
   "cell_type": "code",
   "execution_count": 8,
   "metadata": {},
   "outputs": [
    {
     "name": "stdout",
     "output_type": "stream",
     "text": [
      "mtwo of the child class CCls calle/executed\n"
     ]
    }
   ],
   "source": [
    "c.mtwo()"
   ]
  },
  {
   "cell_type": "code",
   "execution_count": 10,
   "metadata": {},
   "outputs": [],
   "source": [
    "def f1():\n",
    "    print('f1 is called/executed')\n",
    "    \n",
    "def f2():\n",
    "    print(\"f2 is called/executed\")"
   ]
  },
  {
   "cell_type": "code",
   "execution_count": 11,
   "metadata": {},
   "outputs": [
    {
     "name": "stdout",
     "output_type": "stream",
     "text": [
      "f1 is called/executed\n"
     ]
    }
   ],
   "source": [
    "f1()"
   ]
  },
  {
   "cell_type": "code",
   "execution_count": 12,
   "metadata": {},
   "outputs": [
    {
     "name": "stdout",
     "output_type": "stream",
     "text": [
      "f2 is called/executed\n"
     ]
    }
   ],
   "source": [
    "f2()"
   ]
  },
  {
   "cell_type": "code",
   "execution_count": 13,
   "metadata": {},
   "outputs": [],
   "source": [
    "def f1():\n",
    "    print('f1 is called/executed')\n",
    "    \n",
    "def f2():\n",
    "    f1()\n",
    "    print(\"f2 is called/executed\")"
   ]
  },
  {
   "cell_type": "code",
   "execution_count": 14,
   "metadata": {},
   "outputs": [
    {
     "name": "stdout",
     "output_type": "stream",
     "text": [
      "f1 is called/executed\n"
     ]
    }
   ],
   "source": [
    "f1()"
   ]
  },
  {
   "cell_type": "code",
   "execution_count": 15,
   "metadata": {},
   "outputs": [
    {
     "name": "stdout",
     "output_type": "stream",
     "text": [
      "f1 is called/executed\n",
      "f2 is called/executed\n"
     ]
    }
   ],
   "source": [
    "f2()"
   ]
  },
  {
   "cell_type": "code",
   "execution_count": 16,
   "metadata": {},
   "outputs": [],
   "source": [
    "def f1():\n",
    "    print('f1 is called/executed')\n",
    "    f2()\n",
    "    \n",
    "def f2():\n",
    "    print(\"f2 is called/executed\")"
   ]
  },
  {
   "cell_type": "code",
   "execution_count": 17,
   "metadata": {},
   "outputs": [
    {
     "name": "stdout",
     "output_type": "stream",
     "text": [
      "f1 is called/executed\n",
      "f2 is called/executed\n"
     ]
    }
   ],
   "source": [
    "f1()"
   ]
  },
  {
   "cell_type": "code",
   "execution_count": 18,
   "metadata": {},
   "outputs": [
    {
     "name": "stdout",
     "output_type": "stream",
     "text": [
      "f2 is called/executed\n"
     ]
    }
   ],
   "source": [
    "f2()"
   ]
  },
  {
   "cell_type": "markdown",
   "metadata": {},
   "source": [
    "## Linking or chaining method(s) in related class(es)"
   ]
  },
  {
   "cell_type": "code",
   "execution_count": 20,
   "metadata": {},
   "outputs": [],
   "source": [
    "class PCls:\n",
    "    def mone(self):\n",
    "        print(\"Parent class PCls mone is called/executed..\")\n",
    "        \n",
    "class CCls(PCls):\n",
    "    def mtwo(self):\n",
    "        super(CCls,self).mone()\n",
    "        print(\"Child class CCls mtwo is called/executed..\")"
   ]
  },
  {
   "cell_type": "code",
   "execution_count": 21,
   "metadata": {},
   "outputs": [],
   "source": [
    "p = PCls()"
   ]
  },
  {
   "cell_type": "code",
   "execution_count": 22,
   "metadata": {},
   "outputs": [
    {
     "name": "stdout",
     "output_type": "stream",
     "text": [
      "Parent class PCls mone is called/executed..\n"
     ]
    }
   ],
   "source": [
    "p.mone()"
   ]
  },
  {
   "cell_type": "code",
   "execution_count": 23,
   "metadata": {},
   "outputs": [
    {
     "ename": "AttributeError",
     "evalue": "'PCls' object has no attribute 'mtwo'",
     "output_type": "error",
     "traceback": [
      "\u001b[1;31m---------------------------------------------------------------------------\u001b[0m",
      "\u001b[1;31mAttributeError\u001b[0m                            Traceback (most recent call last)",
      "\u001b[1;32m<ipython-input-23-dedabdf31d40>\u001b[0m in \u001b[0;36m<module>\u001b[1;34m\u001b[0m\n\u001b[1;32m----> 1\u001b[1;33m \u001b[0mp\u001b[0m\u001b[1;33m.\u001b[0m\u001b[0mmtwo\u001b[0m\u001b[1;33m(\u001b[0m\u001b[1;33m)\u001b[0m\u001b[1;33m\u001b[0m\u001b[1;33m\u001b[0m\u001b[0m\n\u001b[0m",
      "\u001b[1;31mAttributeError\u001b[0m: 'PCls' object has no attribute 'mtwo'"
     ]
    }
   ],
   "source": [
    "p.mtwo()"
   ]
  },
  {
   "cell_type": "code",
   "execution_count": 24,
   "metadata": {},
   "outputs": [],
   "source": [
    "c = CCls()"
   ]
  },
  {
   "cell_type": "code",
   "execution_count": 25,
   "metadata": {},
   "outputs": [
    {
     "name": "stdout",
     "output_type": "stream",
     "text": [
      "Parent class PCls mone is called/executed..\n"
     ]
    }
   ],
   "source": [
    "c.mone()"
   ]
  },
  {
   "cell_type": "code",
   "execution_count": 26,
   "metadata": {},
   "outputs": [
    {
     "name": "stdout",
     "output_type": "stream",
     "text": [
      "Parent class PCls mone is called/executed..\n",
      "Child class CCls mtwo is called/executed..\n"
     ]
    }
   ],
   "source": [
    "c.mtwo()"
   ]
  },
  {
   "cell_type": "code",
   "execution_count": 50,
   "metadata": {},
   "outputs": [],
   "source": [
    "class PCls:\n",
    "    def mone(self):\n",
    "        print(\"Parent class PCls mone is called/executed..\")\n",
    "        \n",
    "class CCls(PCls):\n",
    "    def mtwo(self):\n",
    "        super(CCls,self).mone()\n",
    "        print(\"Child class CCls mtwo is called/executed..\")"
   ]
  },
  {
   "cell_type": "code",
   "execution_count": 51,
   "metadata": {},
   "outputs": [],
   "source": [
    "p = PCls()"
   ]
  },
  {
   "cell_type": "code",
   "execution_count": 52,
   "metadata": {},
   "outputs": [
    {
     "name": "stdout",
     "output_type": "stream",
     "text": [
      "Parent class PCls mone is called/executed..\n"
     ]
    }
   ],
   "source": [
    "p.mone()"
   ]
  },
  {
   "cell_type": "code",
   "execution_count": 53,
   "metadata": {},
   "outputs": [],
   "source": [
    "c = CCls()"
   ]
  },
  {
   "cell_type": "code",
   "execution_count": 54,
   "metadata": {},
   "outputs": [
    {
     "name": "stdout",
     "output_type": "stream",
     "text": [
      "Parent class PCls mone is called/executed..\n"
     ]
    }
   ],
   "source": [
    "c.mone()"
   ]
  },
  {
   "cell_type": "code",
   "execution_count": 55,
   "metadata": {},
   "outputs": [
    {
     "name": "stdout",
     "output_type": "stream",
     "text": [
      "Parent class PCls mone is called/executed..\n",
      "Child class CCls mtwo is called/executed..\n"
     ]
    }
   ],
   "source": [
    "c.mtwo()"
   ]
  },
  {
   "cell_type": "markdown",
   "metadata": {},
   "source": [
    "## How to link or chain constructors in related classes"
   ]
  },
  {
   "cell_type": "code",
   "execution_count": 56,
   "metadata": {},
   "outputs": [],
   "source": [
    "class PCls:\n",
    "    def __init__(self):\n",
    "        print(\"Parent class constructor called/executed...\")\n",
    "        \n",
    "class CCls(PCls):\n",
    "    def __init__(self):\n",
    "        super(CCls,self).__init__()\n",
    "        print(\"Child class constructor called/executed...\")"
   ]
  },
  {
   "cell_type": "code",
   "execution_count": 57,
   "metadata": {},
   "outputs": [
    {
     "name": "stdout",
     "output_type": "stream",
     "text": [
      "Parent class constructor called/executed...\n"
     ]
    }
   ],
   "source": [
    "p1 = PCls()"
   ]
  },
  {
   "cell_type": "code",
   "execution_count": 58,
   "metadata": {},
   "outputs": [
    {
     "name": "stdout",
     "output_type": "stream",
     "text": [
      "Parent class constructor called/executed...\n",
      "Child class constructor called/executed...\n"
     ]
    }
   ],
   "source": [
    "c1 = CCls()"
   ]
  },
  {
   "cell_type": "markdown",
   "metadata": {},
   "source": [
    "## Implementing the Inheritance concept using an example"
   ]
  },
  {
   "cell_type": "code",
   "execution_count": 59,
   "metadata": {},
   "outputs": [],
   "source": [
    "class Box:\n",
    "    def __init__(self,height,width,depth):\n",
    "        self.h=height\n",
    "        self.w=width\n",
    "        self.d=depth\n",
    "        \n",
    "    def calcVolume(self):\n",
    "        return self.h*self.w*self.d\n",
    "    \n",
    "    def dispBoxDtls(self):\n",
    "        print(\"Height Dimension of the Box = \",self.h)\n",
    "        print(\"Width Dimension of the Box = \",self.w)\n",
    "        print(\"Depth Dimension of the Box = \",self.d)\n",
    "        print(\"Volume of the Box =  \",self.calcVolume())\n",
    "        \n",
    "class ColoredBox(Box):\n",
    "    def __init__(self,h,w,d,color):\n",
    "        super(ColoredBox,self).__init__(h,w,d)\n",
    "        self.color = color\n",
    "        \n",
    "    def dispColoredBoxDtls(self):\n",
    "        super(ColoredBox,self).dispBoxDtls()\n",
    "        print(\"Color of the Box = \",self.color)"
   ]
  },
  {
   "cell_type": "code",
   "execution_count": 60,
   "metadata": {},
   "outputs": [],
   "source": [
    "b1 = Box(2,3,4)"
   ]
  },
  {
   "cell_type": "code",
   "execution_count": 61,
   "metadata": {},
   "outputs": [
    {
     "name": "stdout",
     "output_type": "stream",
     "text": [
      "Height Dimension of the Box =  2\n",
      "Width Dimension of the Box =  3\n",
      "Depth Dimension of the Box =  4\n",
      "Volume of the Box =   24\n"
     ]
    }
   ],
   "source": [
    "b1.dispBoxDtls()"
   ]
  },
  {
   "cell_type": "code",
   "execution_count": 62,
   "metadata": {},
   "outputs": [],
   "source": [
    "blist = [Box(2,2,2),Box(4,5,6)]"
   ]
  },
  {
   "cell_type": "code",
   "execution_count": 63,
   "metadata": {},
   "outputs": [
    {
     "name": "stdout",
     "output_type": "stream",
     "text": [
      "=====================\n",
      "Height Dimension of the Box =  2\n",
      "Width Dimension of the Box =  2\n",
      "Depth Dimension of the Box =  2\n",
      "Volume of the Box =   8\n",
      "=====================\n",
      "=====================\n",
      "Height Dimension of the Box =  4\n",
      "Width Dimension of the Box =  5\n",
      "Depth Dimension of the Box =  6\n",
      "Volume of the Box =   120\n",
      "=====================\n"
     ]
    }
   ],
   "source": [
    "for b in blist:\n",
    "    print(\"=====================\")\n",
    "    b.dispBoxDtls()\n",
    "    print(\"=====================\")\n",
    "    "
   ]
  },
  {
   "cell_type": "code",
   "execution_count": 64,
   "metadata": {},
   "outputs": [],
   "source": [
    "cb1 = ColoredBox(2,3,4,\"Blue\")"
   ]
  },
  {
   "cell_type": "code",
   "execution_count": 65,
   "metadata": {},
   "outputs": [
    {
     "name": "stdout",
     "output_type": "stream",
     "text": [
      "Height Dimension of the Box =  2\n",
      "Width Dimension of the Box =  3\n",
      "Depth Dimension of the Box =  4\n",
      "Volume of the Box =   24\n",
      "Color of the Box =  Blue\n"
     ]
    }
   ],
   "source": [
    "cb1.dispColoredBoxDtls()"
   ]
  },
  {
   "cell_type": "code",
   "execution_count": 66,
   "metadata": {},
   "outputs": [],
   "source": [
    "cb2 = ColoredBox(2,2,2,'Green')"
   ]
  },
  {
   "cell_type": "code",
   "execution_count": 67,
   "metadata": {},
   "outputs": [
    {
     "name": "stdout",
     "output_type": "stream",
     "text": [
      "Height Dimension of the Box =  2\n",
      "Width Dimension of the Box =  2\n",
      "Depth Dimension of the Box =  2\n",
      "Volume of the Box =   8\n",
      "Color of the Box =  Green\n"
     ]
    }
   ],
   "source": [
    "cb2.dispColoredBoxDtls()"
   ]
  },
  {
   "cell_type": "code",
   "execution_count": 68,
   "metadata": {},
   "outputs": [],
   "source": [
    "cblist = [ColoredBox(4,5,6,'Red'),ColoredBox(3,3,3,'Yellow')]"
   ]
  },
  {
   "cell_type": "code",
   "execution_count": 69,
   "metadata": {},
   "outputs": [
    {
     "name": "stdout",
     "output_type": "stream",
     "text": [
      "Height Dimension of the Box =  4\n",
      "Width Dimension of the Box =  5\n",
      "Depth Dimension of the Box =  6\n",
      "Volume of the Box =   120\n",
      "Color of the Box =  Red\n",
      "==========================\n",
      "Height Dimension of the Box =  3\n",
      "Width Dimension of the Box =  3\n",
      "Depth Dimension of the Box =  3\n",
      "Volume of the Box =   27\n",
      "Color of the Box =  Yellow\n",
      "==========================\n"
     ]
    }
   ],
   "source": [
    "for cb in cblist:\n",
    "    cb.dispColoredBoxDtls()\n",
    "    print(\"==========================\")"
   ]
  },
  {
   "cell_type": "code",
   "execution_count": 70,
   "metadata": {},
   "outputs": [],
   "source": [
    "class WeightedColoredBox(ColoredBox):\n",
    "    def __init__(self,h,w,d,c,mass):\n",
    "        super(WeightedColoredBox,self).__init__(h,w,d,c)\n",
    "        self.weight = mass\n",
    "        \n",
    "    def dispWeightedColoredBoxDtls(self):\n",
    "        super(WeightedColoredBox,self).dispColoredBoxDtls()\n",
    "        print(\"Weight of the Box = \",self.weight,\" Kgs\")"
   ]
  },
  {
   "cell_type": "code",
   "execution_count": 71,
   "metadata": {},
   "outputs": [],
   "source": [
    "b1 = Box(2,3,4)"
   ]
  },
  {
   "cell_type": "code",
   "execution_count": 72,
   "metadata": {},
   "outputs": [
    {
     "name": "stdout",
     "output_type": "stream",
     "text": [
      "Height Dimension of the Box =  2\n",
      "Width Dimension of the Box =  3\n",
      "Depth Dimension of the Box =  4\n",
      "Volume of the Box =   24\n"
     ]
    }
   ],
   "source": [
    "b1.dispBoxDtls()"
   ]
  },
  {
   "cell_type": "code",
   "execution_count": 73,
   "metadata": {},
   "outputs": [],
   "source": [
    "cb1 = ColoredBox(2,3,4,'Red')"
   ]
  },
  {
   "cell_type": "code",
   "execution_count": 74,
   "metadata": {},
   "outputs": [
    {
     "name": "stdout",
     "output_type": "stream",
     "text": [
      "Height Dimension of the Box =  2\n",
      "Width Dimension of the Box =  3\n",
      "Depth Dimension of the Box =  4\n",
      "Volume of the Box =   24\n",
      "Color of the Box =  Red\n"
     ]
    }
   ],
   "source": [
    "cb1.dispColoredBoxDtls()"
   ]
  },
  {
   "cell_type": "code",
   "execution_count": 75,
   "metadata": {},
   "outputs": [],
   "source": [
    "wcb1 = WeightedColoredBox(2,3,4,'Blue',50)"
   ]
  },
  {
   "cell_type": "code",
   "execution_count": 76,
   "metadata": {},
   "outputs": [
    {
     "name": "stdout",
     "output_type": "stream",
     "text": [
      "Height Dimension of the Box =  2\n",
      "Width Dimension of the Box =  3\n",
      "Depth Dimension of the Box =  4\n",
      "Volume of the Box =   24\n",
      "Color of the Box =  Blue\n",
      "Weight of the Box =  50  Kgs\n"
     ]
    }
   ],
   "source": [
    "wcb1.dispWeightedColoredBoxDtls()"
   ]
  },
  {
   "cell_type": "markdown",
   "metadata": {},
   "source": [
    "## Multiple Inheritance"
   ]
  },
  {
   "cell_type": "code",
   "execution_count": 80,
   "metadata": {},
   "outputs": [],
   "source": [
    "class PCls1:\n",
    "    def mone(self):\n",
    "        print(\"mone of the PCls1 called/executed\")\n",
    "        \n",
    "class PCls2:\n",
    "    def mtwo(self):\n",
    "        print(\"mtwo of the PCls2 called/executed\")\n",
    "        \n",
    "class CCls(PCls1,PCls2):\n",
    "    def mthree(self):\n",
    "        print(\"mthree of the Child class CCls called/executed\")"
   ]
  },
  {
   "cell_type": "code",
   "execution_count": 81,
   "metadata": {},
   "outputs": [
    {
     "name": "stdout",
     "output_type": "stream",
     "text": [
      "mone of the PCls1 called/executed\n"
     ]
    }
   ],
   "source": [
    "p1 = PCls1()\n",
    "p1.mone()"
   ]
  },
  {
   "cell_type": "code",
   "execution_count": 82,
   "metadata": {},
   "outputs": [
    {
     "name": "stdout",
     "output_type": "stream",
     "text": [
      "mtwo of the PCls2 called/executed\n"
     ]
    }
   ],
   "source": [
    "p2 = PCls2()\n",
    "p2.mtwo()"
   ]
  },
  {
   "cell_type": "code",
   "execution_count": 83,
   "metadata": {},
   "outputs": [],
   "source": [
    "c1 = CCls()"
   ]
  },
  {
   "cell_type": "code",
   "execution_count": 84,
   "metadata": {},
   "outputs": [
    {
     "name": "stdout",
     "output_type": "stream",
     "text": [
      "mone of the PCls1 called/executed\n"
     ]
    }
   ],
   "source": [
    "c1.mone()"
   ]
  },
  {
   "cell_type": "code",
   "execution_count": 85,
   "metadata": {},
   "outputs": [
    {
     "name": "stdout",
     "output_type": "stream",
     "text": [
      "mtwo of the PCls2 called/executed\n"
     ]
    }
   ],
   "source": [
    "c1.mtwo()"
   ]
  },
  {
   "cell_type": "code",
   "execution_count": 86,
   "metadata": {},
   "outputs": [
    {
     "name": "stdout",
     "output_type": "stream",
     "text": [
      "mthree of the Child class CCls called/executed\n"
     ]
    }
   ],
   "source": [
    "c1.mthree()"
   ]
  },
  {
   "cell_type": "code",
   "execution_count": 95,
   "metadata": {},
   "outputs": [],
   "source": [
    "class PCls1:\n",
    "    def mone(self):\n",
    "        print(\"mone of the PCls1 called/executed\")\n",
    "        \n",
    "class PCls2:\n",
    "    def mone(self):\n",
    "        print(\"mone of the PCls2 called/executed\")\n",
    "        \n",
    "class CCls(PCls2,PCls1):\n",
    "    def mthree(self):\n",
    "        print(\"mthree of the Child class CCls called/executed\")"
   ]
  },
  {
   "cell_type": "code",
   "execution_count": 96,
   "metadata": {},
   "outputs": [],
   "source": [
    "p1 = PCls1()"
   ]
  },
  {
   "cell_type": "code",
   "execution_count": 97,
   "metadata": {},
   "outputs": [
    {
     "name": "stdout",
     "output_type": "stream",
     "text": [
      "mone of the PCls1 called/executed\n"
     ]
    }
   ],
   "source": [
    "p1.mone()"
   ]
  },
  {
   "cell_type": "code",
   "execution_count": 98,
   "metadata": {},
   "outputs": [],
   "source": [
    "p2 = PCls2()"
   ]
  },
  {
   "cell_type": "code",
   "execution_count": 99,
   "metadata": {},
   "outputs": [
    {
     "name": "stdout",
     "output_type": "stream",
     "text": [
      "mone of the PCls2 called/executed\n"
     ]
    }
   ],
   "source": [
    "p2.mone()"
   ]
  },
  {
   "cell_type": "code",
   "execution_count": 100,
   "metadata": {},
   "outputs": [],
   "source": [
    "c1 = CCls()"
   ]
  },
  {
   "cell_type": "code",
   "execution_count": 101,
   "metadata": {},
   "outputs": [
    {
     "name": "stdout",
     "output_type": "stream",
     "text": [
      "mthree of the Child class CCls called/executed\n"
     ]
    }
   ],
   "source": [
    "c1.mthree()"
   ]
  },
  {
   "cell_type": "code",
   "execution_count": 102,
   "metadata": {},
   "outputs": [
    {
     "name": "stdout",
     "output_type": "stream",
     "text": [
      "mone of the PCls2 called/executed\n"
     ]
    }
   ],
   "source": [
    "c1.mone()"
   ]
  },
  {
   "cell_type": "code",
   "execution_count": null,
   "metadata": {},
   "outputs": [],
   "source": []
  }
 ],
 "metadata": {
  "kernelspec": {
   "display_name": "Python 3",
   "language": "python",
   "name": "python3"
  },
  "language_info": {
   "codemirror_mode": {
    "name": "ipython",
    "version": 3
   },
   "file_extension": ".py",
   "mimetype": "text/x-python",
   "name": "python",
   "nbconvert_exporter": "python",
   "pygments_lexer": "ipython3",
   "version": "3.7.1"
  }
 },
 "nbformat": 4,
 "nbformat_minor": 2
}
