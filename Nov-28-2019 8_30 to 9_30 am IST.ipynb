{
 "cells": [
  {
   "cell_type": "markdown",
   "metadata": {},
   "source": [
    "## Conditional Control Structures....\n",
    "\n",
    "#### Simple if statement"
   ]
  },
  {
   "cell_type": "code",
   "execution_count": 11,
   "metadata": {},
   "outputs": [
    {
     "name": "stdout",
     "output_type": "stream",
     "text": [
      "Sequential Execution begins here...\n",
      "Enter Any Positive Number :: -5\n",
      "Sequential Execution continues here...\n"
     ]
    }
   ],
   "source": [
    "print(\"Sequential Execution begins here...\")\n",
    "a=int(input(\"Enter Any Positive Number :: \"))\n",
    "if(a>0):\n",
    "    print(\"Number is Positive!!!\")\n",
    "    print(\"Number is greater than ZERO!\")\n",
    "print(\"Sequential Execution continues here...\")"
   ]
  },
  {
   "cell_type": "code",
   "execution_count": 18,
   "metadata": {},
   "outputs": [
    {
     "name": "stdout",
     "output_type": "stream",
     "text": [
      "Sequential Exeution begins here....\n",
      "Enter any positive number :: 10\n",
      "You are very obedient\n",
      "Given number is Positive\n",
      "Sequential Execution continues.....\n"
     ]
    }
   ],
   "source": [
    "print(\"Sequential Exeution begins here....\")\n",
    "n=int(input(\"Enter any positive number :: \"))\n",
    "if(n>0):\n",
    "    print(\"You are very obedient\")\n",
    "    print(\"Given number is Positive\")\n",
    "if(n<0):\n",
    "    print(\"Given number is Not positive\")\n",
    "    print(\"Given number is Negative...\")\n",
    "print(\"Sequential Execution continues.....\")"
   ]
  },
  {
   "cell_type": "markdown",
   "metadata": {},
   "source": [
    "## if....elif....else statement"
   ]
  },
  {
   "cell_type": "code",
   "execution_count": 28,
   "metadata": {},
   "outputs": [
    {
     "name": "stdout",
     "output_type": "stream",
     "text": [
      "sequential execution begins.....\n",
      "Enter any integer number :: 0\n",
      "Given number is Neither Positive nor negative...\n",
      "So the number must be Zero\n",
      "sequential execution continues.....\n"
     ]
    }
   ],
   "source": [
    "print(\"sequential execution begins.....\")\n",
    "n = int(input(\"Enter any integer number :: \"))\n",
    "if(n>0):\n",
    "    print(\"Given number is Positive...\")\n",
    "    print(\"Given number is non-zero...\")\n",
    "elif(n<0):\n",
    "    print(\"Given number is Negaitve....\")\n",
    "    print(\"Given number is non-zero....\")\n",
    "else:\n",
    "    print(\"Given number is Neither Positive nor negative...\")\n",
    "    print(\"So the number must be Zero\")\n",
    "print(\"sequential execution continues.....\")"
   ]
  },
  {
   "cell_type": "markdown",
   "metadata": {},
   "source": [
    "## Nested-if statement...."
   ]
  },
  {
   "cell_type": "code",
   "execution_count": 33,
   "metadata": {},
   "outputs": [
    {
     "name": "stdout",
     "output_type": "stream",
     "text": [
      "Enter first number ::   10\n",
      "Enter second number ::   10\n",
      "Enter third number ::   10\n",
      "All number are equal!!\n"
     ]
    }
   ],
   "source": [
    "# Finding the maximum number among the given 3 numbers...\n",
    "a = int(input('Enter first number ::   '))\n",
    "b = int(input('Enter second number ::   '))\n",
    "c = int(input('Enter third number ::   '))\n",
    "if (a>b and a>c):\n",
    "    print(\"Greatest number is :: \",a)\n",
    "elif(b>a and b>c):\n",
    "    print(\"Greatest number is :: \",b)\n",
    "elif(c>a and c>b):\n",
    "    print(\"Greatest number is :: \",c)\n",
    "else:\n",
    "    print(\"All number are equal!!\")\n"
   ]
  },
  {
   "cell_type": "code",
   "execution_count": 42,
   "metadata": {},
   "outputs": [
    {
     "name": "stdout",
     "output_type": "stream",
     "text": [
      "Enter first number ::   50\n",
      "Enter second number ::   20\n",
      "Enter third number ::   20\n",
      "Greatest number is ::  50.0\n",
      "Middle ane minumum are equal ::  20.0\n"
     ]
    }
   ],
   "source": [
    "a = float(input('Enter first number ::   '))\n",
    "b = float(input('Enter second number ::   '))\n",
    "c = float(input('Enter third number ::   '))\n",
    "if (a>b and a>c):\n",
    "    print(\"Greatest number is :: \",a)\n",
    "    if(b>c):\n",
    "        print(\"Middle number is :: \",b)\n",
    "        print(\"Minimum number is :: \",c)\n",
    "    elif(c>b):\n",
    "        print(\"Middle number is :: \",c)\n",
    "        print(\"Minimum number is ::  \",b)\n",
    "    else:\n",
    "        print(\"Middle ane minumum are equal :: \",b)\n",
    "elif(b>a and b>c):\n",
    "    print(\"Greatest number is :: \",b)\n",
    "    if(a>c):\n",
    "        print(\"Middle number is :: \",a)\n",
    "        print(\"Minimum number is :: \",c)\n",
    "    else:\n",
    "        print(\"Middle number is :: \",c)\n",
    "        print(\"Minimum number is :: \",a)\n",
    "elif(c>a and c>b):\n",
    "    print(\"Greatest number is :: \",c)\n",
    "    if(a>b):\n",
    "        print(\"Middle number is :: \",a)\n",
    "        print(\"Minimum number is ::  \",b)\n",
    "    else:\n",
    "        print(\"Middle number is :: \",b)\n",
    "        print(\"Minimum number is :: \",a)\n",
    "else:\n",
    "    print(\"All number are equal!!\")\n"
   ]
  },
  {
   "cell_type": "code",
   "execution_count": null,
   "metadata": {},
   "outputs": [],
   "source": []
  },
  {
   "cell_type": "code",
   "execution_count": null,
   "metadata": {},
   "outputs": [],
   "source": []
  },
  {
   "cell_type": "code",
   "execution_count": null,
   "metadata": {},
   "outputs": [],
   "source": []
  },
  {
   "cell_type": "code",
   "execution_count": null,
   "metadata": {},
   "outputs": [],
   "source": []
  },
  {
   "cell_type": "code",
   "execution_count": null,
   "metadata": {},
   "outputs": [],
   "source": []
  },
  {
   "cell_type": "code",
   "execution_count": null,
   "metadata": {},
   "outputs": [],
   "source": []
  },
  {
   "cell_type": "code",
   "execution_count": null,
   "metadata": {},
   "outputs": [],
   "source": []
  },
  {
   "cell_type": "code",
   "execution_count": null,
   "metadata": {},
   "outputs": [],
   "source": []
  },
  {
   "cell_type": "code",
   "execution_count": null,
   "metadata": {},
   "outputs": [],
   "source": []
  },
  {
   "cell_type": "code",
   "execution_count": null,
   "metadata": {},
   "outputs": [],
   "source": []
  },
  {
   "cell_type": "code",
   "execution_count": null,
   "metadata": {},
   "outputs": [],
   "source": []
  },
  {
   "cell_type": "code",
   "execution_count": null,
   "metadata": {},
   "outputs": [],
   "source": []
  },
  {
   "cell_type": "code",
   "execution_count": null,
   "metadata": {},
   "outputs": [],
   "source": []
  },
  {
   "cell_type": "code",
   "execution_count": null,
   "metadata": {},
   "outputs": [],
   "source": []
  },
  {
   "cell_type": "code",
   "execution_count": null,
   "metadata": {},
   "outputs": [],
   "source": []
  },
  {
   "cell_type": "code",
   "execution_count": null,
   "metadata": {},
   "outputs": [],
   "source": []
  },
  {
   "cell_type": "code",
   "execution_count": null,
   "metadata": {},
   "outputs": [],
   "source": []
  },
  {
   "cell_type": "code",
   "execution_count": null,
   "metadata": {},
   "outputs": [],
   "source": []
  },
  {
   "cell_type": "code",
   "execution_count": null,
   "metadata": {},
   "outputs": [],
   "source": []
  },
  {
   "cell_type": "code",
   "execution_count": null,
   "metadata": {},
   "outputs": [],
   "source": []
  },
  {
   "cell_type": "code",
   "execution_count": null,
   "metadata": {},
   "outputs": [],
   "source": []
  },
  {
   "cell_type": "code",
   "execution_count": null,
   "metadata": {},
   "outputs": [],
   "source": []
  },
  {
   "cell_type": "code",
   "execution_count": null,
   "metadata": {},
   "outputs": [],
   "source": []
  },
  {
   "cell_type": "code",
   "execution_count": null,
   "metadata": {},
   "outputs": [],
   "source": []
  },
  {
   "cell_type": "code",
   "execution_count": null,
   "metadata": {},
   "outputs": [],
   "source": []
  },
  {
   "cell_type": "code",
   "execution_count": null,
   "metadata": {},
   "outputs": [],
   "source": []
  },
  {
   "cell_type": "code",
   "execution_count": null,
   "metadata": {},
   "outputs": [],
   "source": []
  }
 ],
 "metadata": {
  "kernelspec": {
   "display_name": "Python 3",
   "language": "python",
   "name": "python3"
  },
  "language_info": {
   "codemirror_mode": {
    "name": "ipython",
    "version": 3
   },
   "file_extension": ".py",
   "mimetype": "text/x-python",
   "name": "python",
   "nbconvert_exporter": "python",
   "pygments_lexer": "ipython3",
   "version": "3.7.1"
  }
 },
 "nbformat": 4,
 "nbformat_minor": 2
}
