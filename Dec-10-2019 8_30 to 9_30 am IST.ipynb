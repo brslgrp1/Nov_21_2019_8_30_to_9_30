{
 "cells": [
  {
   "cell_type": "code",
   "execution_count": 1,
   "metadata": {},
   "outputs": [],
   "source": [
    "class SampCls1:\n",
    "    def f1():\n",
    "        print(\"f1 of the SampCls1 called/executed\")\n",
    "        \n",
    "    def f2():\n",
    "        print(\"f2 of the SampCls1 called/executed\")"
   ]
  },
  {
   "cell_type": "code",
   "execution_count": 2,
   "metadata": {},
   "outputs": [
    {
     "name": "stdout",
     "output_type": "stream",
     "text": [
      "f1 of the SampCls1 called/executed\n"
     ]
    }
   ],
   "source": [
    "SampCls1.f1()"
   ]
  },
  {
   "cell_type": "code",
   "execution_count": 3,
   "metadata": {},
   "outputs": [
    {
     "name": "stdout",
     "output_type": "stream",
     "text": [
      "f2 of the SampCls1 called/executed\n"
     ]
    }
   ],
   "source": [
    "SampCls1.f2()"
   ]
  },
  {
   "cell_type": "markdown",
   "metadata": {},
   "source": [
    "## Linking or chaining or relating methods in a class"
   ]
  },
  {
   "cell_type": "code",
   "execution_count": 5,
   "metadata": {},
   "outputs": [],
   "source": [
    "class SampCls2:\n",
    "    def f1():\n",
    "        print(\"f1 of the class SampCls2 called/executed\")\n",
    "        SampCls2.f2()\n",
    "        \n",
    "    def f2():\n",
    "        print(\"f2 of the class SampCls2 called/executed\")"
   ]
  },
  {
   "cell_type": "code",
   "execution_count": 6,
   "metadata": {},
   "outputs": [
    {
     "name": "stdout",
     "output_type": "stream",
     "text": [
      "f1 of the class SampCls2 called/executed\n",
      "f2 of the class SampCls2 called/executed\n"
     ]
    }
   ],
   "source": [
    "SampCls2.f1()"
   ]
  },
  {
   "cell_type": "code",
   "execution_count": 7,
   "metadata": {},
   "outputs": [
    {
     "name": "stdout",
     "output_type": "stream",
     "text": [
      "f2 of the class SampCls2 called/executed\n"
     ]
    }
   ],
   "source": [
    "SampCls2.f2()"
   ]
  },
  {
   "cell_type": "code",
   "execution_count": 8,
   "metadata": {},
   "outputs": [],
   "source": [
    "class SampCls3:\n",
    "    def f1(self):\n",
    "        print(\"instance method f1 of the class SampCls3 called/executed\")\n",
    "        \n",
    "    def f2(self):\n",
    "        print(\"instance method f2 of the class SampCls3 called/executed\")"
   ]
  },
  {
   "cell_type": "code",
   "execution_count": 9,
   "metadata": {},
   "outputs": [],
   "source": [
    "a = SampCls3()"
   ]
  },
  {
   "cell_type": "code",
   "execution_count": 10,
   "metadata": {},
   "outputs": [
    {
     "name": "stdout",
     "output_type": "stream",
     "text": [
      "instance method f1 of the class SampCls3 called/executed\n"
     ]
    }
   ],
   "source": [
    "a.f1()"
   ]
  },
  {
   "cell_type": "code",
   "execution_count": 11,
   "metadata": {},
   "outputs": [
    {
     "name": "stdout",
     "output_type": "stream",
     "text": [
      "instance method f2 of the class SampCls3 called/executed\n"
     ]
    }
   ],
   "source": [
    "a.f2()"
   ]
  },
  {
   "cell_type": "markdown",
   "metadata": {},
   "source": [
    "## Linking or chaining method(s)/function(s) which are of instance type"
   ]
  },
  {
   "cell_type": "code",
   "execution_count": 15,
   "metadata": {},
   "outputs": [],
   "source": [
    "class SampCls3:\n",
    "    def f1(self):        \n",
    "        print(\"instance method f1 of the class SampCls3 called/executed\")\n",
    "        self.f2()\n",
    "        \n",
    "    def f2(self):\n",
    "        print(\"instance method f2 of the class SampCls3 called/executed\")"
   ]
  },
  {
   "cell_type": "code",
   "execution_count": 16,
   "metadata": {},
   "outputs": [],
   "source": [
    "p = SampCls3()"
   ]
  },
  {
   "cell_type": "code",
   "execution_count": 17,
   "metadata": {},
   "outputs": [
    {
     "name": "stdout",
     "output_type": "stream",
     "text": [
      "instance method f1 of the class SampCls3 called/executed\n",
      "instance method f2 of the class SampCls3 called/executed\n"
     ]
    }
   ],
   "source": [
    "p.f1()"
   ]
  },
  {
   "cell_type": "code",
   "execution_count": 18,
   "metadata": {},
   "outputs": [
    {
     "name": "stdout",
     "output_type": "stream",
     "text": [
      "instance method f2 of the class SampCls3 called/executed\n"
     ]
    }
   ],
   "source": [
    "p.f2()"
   ]
  },
  {
   "cell_type": "code",
   "execution_count": 19,
   "metadata": {},
   "outputs": [],
   "source": [
    "class MathOps:\n",
    "    def addFn(self,a,b):\n",
    "        print(\"Addition result = \",a+b)\n",
    "        \n",
    "    def subFn(self,a,b):\n",
    "        print(\"Subtraction result = \",a-b)\n",
    "        \n",
    "    def mulFn(self,a,b):\n",
    "        print(\"Result of multiplication = \",a*b)"
   ]
  },
  {
   "cell_type": "code",
   "execution_count": 20,
   "metadata": {},
   "outputs": [],
   "source": [
    "m = MathOps()"
   ]
  },
  {
   "cell_type": "code",
   "execution_count": 21,
   "metadata": {},
   "outputs": [
    {
     "name": "stdout",
     "output_type": "stream",
     "text": [
      "Addition result =  7\n"
     ]
    }
   ],
   "source": [
    "m.addFn(5,2)"
   ]
  },
  {
   "cell_type": "code",
   "execution_count": 22,
   "metadata": {},
   "outputs": [
    {
     "name": "stdout",
     "output_type": "stream",
     "text": [
      "Subtraction result =  3\n"
     ]
    }
   ],
   "source": [
    "m.subFn(5,2)"
   ]
  },
  {
   "cell_type": "code",
   "execution_count": 23,
   "metadata": {},
   "outputs": [
    {
     "name": "stdout",
     "output_type": "stream",
     "text": [
      "Result of multiplication =  10\n"
     ]
    }
   ],
   "source": [
    "m.mulFn(5,2)"
   ]
  },
  {
   "cell_type": "code",
   "execution_count": 24,
   "metadata": {},
   "outputs": [],
   "source": [
    "class MathOps:\n",
    "    def addFn(self,a,b):\n",
    "        print(\"Addition result = \",a+b)\n",
    "        self.subFn(a,b)\n",
    "        \n",
    "    def subFn(self,a,b):\n",
    "        print(\"Subtraction result = \",a-b)\n",
    "        self.mulFn(a,b)\n",
    "        \n",
    "    def mulFn(self,a,b):\n",
    "        print(\"Result of multiplication = \",a*b)"
   ]
  },
  {
   "cell_type": "code",
   "execution_count": 25,
   "metadata": {},
   "outputs": [],
   "source": [
    "m = MathOps()"
   ]
  },
  {
   "cell_type": "code",
   "execution_count": 26,
   "metadata": {},
   "outputs": [
    {
     "name": "stdout",
     "output_type": "stream",
     "text": [
      "Addition result =  7\n",
      "Subtraction result =  3\n",
      "Result of multiplication =  10\n"
     ]
    }
   ],
   "source": [
    "m.addFn(5,2)"
   ]
  },
  {
   "cell_type": "code",
   "execution_count": 34,
   "metadata": {},
   "outputs": [],
   "source": [
    "class Student:\n",
    "    def storeStudData(self,rno,sname,mk1,mk2,mk3):\n",
    "        self.rno = rno\n",
    "        self.sname = sname\n",
    "        self.m1 = mk1\n",
    "        self.m2 = mk2\n",
    "        self.m3 = mk3\n",
    "        \n",
    "    def getTotMks(self):\n",
    "        totmks= self.m1+self.m2+self.m3\n",
    "        return totmks\n",
    "    \n",
    "    def getAvgMks(self):\n",
    "        #avgmks = (self.m1+self.m2+self.m3)/3\n",
    "        avgmks = self.getTotMks()/3\n",
    "        return avgmks\n",
    "    \n",
    "    def dispStudDtls(self):\n",
    "        print(\"Roll Number of the student :: \",self.rno)\n",
    "        print(\"Name of the student :: \",self.sname)\n",
    "        print(\"Marks scored in subject #1 = \",self.m1)\n",
    "        print(\"Marks scored in subject #2 = \",self.m2)\n",
    "        print(\"Marks scored in subject #3 = \",self.m3)\n",
    "        print(\"Total of all subject marks scored :: \",self.getTotMks())\n",
    "        print(\"Average of the marks scored :: \",self.getAvgMks())\n",
    "    \n",
    "        \n",
    "        "
   ]
  },
  {
   "cell_type": "code",
   "execution_count": 35,
   "metadata": {},
   "outputs": [],
   "source": [
    "s1 = Student()"
   ]
  },
  {
   "cell_type": "code",
   "execution_count": 36,
   "metadata": {},
   "outputs": [],
   "source": [
    "s1.storeStudData(101,'Amit',50,60,70)"
   ]
  },
  {
   "cell_type": "code",
   "execution_count": 37,
   "metadata": {},
   "outputs": [
    {
     "name": "stdout",
     "output_type": "stream",
     "text": [
      "Roll Number of the student ::  101\n",
      "Name of the student ::  Amit\n",
      "Marks scored in subject #1 =  50\n",
      "Marks scored in subject #2 =  60\n",
      "Marks scored in subject #3 =  70\n",
      "Total of all subject marks scored ::  180\n",
      "Average of the marks scored ::  60.0\n"
     ]
    }
   ],
   "source": [
    "s1.dispStudDtls()"
   ]
  },
  {
   "cell_type": "code",
   "execution_count": 38,
   "metadata": {},
   "outputs": [
    {
     "data": {
      "text/plain": [
       "180"
      ]
     },
     "execution_count": 38,
     "metadata": {},
     "output_type": "execute_result"
    }
   ],
   "source": [
    "s1.getTotMks()"
   ]
  },
  {
   "cell_type": "code",
   "execution_count": 39,
   "metadata": {},
   "outputs": [
    {
     "data": {
      "text/plain": [
       "60.0"
      ]
     },
     "execution_count": 39,
     "metadata": {},
     "output_type": "execute_result"
    }
   ],
   "source": [
    "s1.getAvgMks()"
   ]
  },
  {
   "cell_type": "code",
   "execution_count": 40,
   "metadata": {},
   "outputs": [],
   "source": [
    "s2 = Student()"
   ]
  },
  {
   "cell_type": "code",
   "execution_count": 41,
   "metadata": {},
   "outputs": [],
   "source": [
    "s2.storeStudData(102,'Anil',50.75,60,78.95)"
   ]
  },
  {
   "cell_type": "code",
   "execution_count": 43,
   "metadata": {},
   "outputs": [
    {
     "data": {
      "text/plain": [
       "189.7"
      ]
     },
     "execution_count": 43,
     "metadata": {},
     "output_type": "execute_result"
    }
   ],
   "source": [
    "s2.getTotMks()"
   ]
  },
  {
   "cell_type": "code",
   "execution_count": 44,
   "metadata": {},
   "outputs": [
    {
     "data": {
      "text/plain": [
       "63.23333333333333"
      ]
     },
     "execution_count": 44,
     "metadata": {},
     "output_type": "execute_result"
    }
   ],
   "source": [
    "s2.getAvgMks()"
   ]
  },
  {
   "cell_type": "code",
   "execution_count": 45,
   "metadata": {},
   "outputs": [
    {
     "name": "stdout",
     "output_type": "stream",
     "text": [
      "Roll Number of the student ::  102\n",
      "Name of the student ::  Anil\n",
      "Marks scored in subject #1 =  50.75\n",
      "Marks scored in subject #2 =  60\n",
      "Marks scored in subject #3 =  78.95\n",
      "Total of all subject marks scored ::  189.7\n",
      "Average of the marks scored ::  63.23333333333333\n"
     ]
    }
   ],
   "source": [
    "s2.dispStudDtls()"
   ]
  },
  {
   "cell_type": "code",
   "execution_count": 46,
   "metadata": {},
   "outputs": [],
   "source": [
    "studs = [Student(),Student(),Student()]"
   ]
  },
  {
   "cell_type": "code",
   "execution_count": 47,
   "metadata": {},
   "outputs": [],
   "source": [
    "studs[0].storeStudData(1,'Hari',50,70,90)\n",
    "studs[1].storeStudData(2,'Rama',80,90,75)\n",
    "studs[2].storeStudData(3,'Kiran',75.25,90,95.45)"
   ]
  },
  {
   "cell_type": "code",
   "execution_count": 49,
   "metadata": {},
   "outputs": [
    {
     "name": "stdout",
     "output_type": "stream",
     "text": [
      "Roll Number of the student ::  1\n",
      "Name of the student ::  Hari\n",
      "Marks scored in subject #1 =  50\n",
      "Marks scored in subject #2 =  70\n",
      "Marks scored in subject #3 =  90\n",
      "Total of all subject marks scored ::  210\n",
      "Average of the marks scored ::  70.0\n"
     ]
    }
   ],
   "source": [
    "studs[0].dispStudDtls()"
   ]
  },
  {
   "cell_type": "code",
   "execution_count": 51,
   "metadata": {},
   "outputs": [
    {
     "name": "stdout",
     "output_type": "stream",
     "text": [
      "Roll Number of the student ::  2\n",
      "Name of the student ::  Rama\n",
      "Marks scored in subject #1 =  80\n",
      "Marks scored in subject #2 =  90\n",
      "Marks scored in subject #3 =  75\n",
      "Total of all subject marks scored ::  245\n",
      "Average of the marks scored ::  81.66666666666667\n"
     ]
    }
   ],
   "source": [
    "studs[1].dispStudDtls()"
   ]
  },
  {
   "cell_type": "code",
   "execution_count": 52,
   "metadata": {},
   "outputs": [
    {
     "name": "stdout",
     "output_type": "stream",
     "text": [
      "Roll Number of the student ::  3\n",
      "Name of the student ::  Kiran\n",
      "Marks scored in subject #1 =  75.25\n",
      "Marks scored in subject #2 =  90\n",
      "Marks scored in subject #3 =  95.45\n",
      "Total of all subject marks scored ::  260.7\n",
      "Average of the marks scored ::  86.89999999999999\n"
     ]
    }
   ],
   "source": [
    "studs[2].dispStudDtls()"
   ]
  },
  {
   "cell_type": "code",
   "execution_count": 53,
   "metadata": {},
   "outputs": [
    {
     "name": "stdout",
     "output_type": "stream",
     "text": [
      "Roll Number of the student ::  1\n",
      "Name of the student ::  Hari\n",
      "Marks scored in subject #1 =  50\n",
      "Marks scored in subject #2 =  70\n",
      "Marks scored in subject #3 =  90\n",
      "Total of all subject marks scored ::  210\n",
      "Average of the marks scored ::  70.0\n",
      "======================================\n",
      "Roll Number of the student ::  2\n",
      "Name of the student ::  Rama\n",
      "Marks scored in subject #1 =  80\n",
      "Marks scored in subject #2 =  90\n",
      "Marks scored in subject #3 =  75\n",
      "Total of all subject marks scored ::  245\n",
      "Average of the marks scored ::  81.66666666666667\n",
      "======================================\n",
      "Roll Number of the student ::  3\n",
      "Name of the student ::  Kiran\n",
      "Marks scored in subject #1 =  75.25\n",
      "Marks scored in subject #2 =  90\n",
      "Marks scored in subject #3 =  95.45\n",
      "Total of all subject marks scored ::  260.7\n",
      "Average of the marks scored ::  86.89999999999999\n",
      "======================================\n"
     ]
    }
   ],
   "source": [
    "for s in studs:\n",
    "    s.dispStudDtls()\n",
    "    print(\"======================================\")"
   ]
  },
  {
   "cell_type": "code",
   "execution_count": 54,
   "metadata": {},
   "outputs": [
    {
     "name": "stdout",
     "output_type": "stream",
     "text": [
      "Roll Number of the student ::  1\n",
      "Name of the student ::  Hari\n",
      "Marks scored in subject #1 =  50\n",
      "Marks scored in subject #2 =  70\n",
      "Marks scored in subject #3 =  90\n",
      "Total of all subject marks scored ::  210\n",
      "Average of the marks scored ::  70.0\n",
      "----------------------------------------------------------\n",
      "Roll Number of the student ::  2\n",
      "Name of the student ::  Rama\n",
      "Marks scored in subject #1 =  80\n",
      "Marks scored in subject #2 =  90\n",
      "Marks scored in subject #3 =  75\n",
      "Total of all subject marks scored ::  245\n",
      "Average of the marks scored ::  81.66666666666667\n",
      "----------------------------------------------------------\n",
      "Roll Number of the student ::  3\n",
      "Name of the student ::  Kiran\n",
      "Marks scored in subject #1 =  75.25\n",
      "Marks scored in subject #2 =  90\n",
      "Marks scored in subject #3 =  95.45\n",
      "Total of all subject marks scored ::  260.7\n",
      "Average of the marks scored ::  86.89999999999999\n",
      "----------------------------------------------------------\n"
     ]
    }
   ],
   "source": [
    "for i in range(len(studs)):\n",
    "    studs[i].dispStudDtls()\n",
    "    print(\"----------------------------------------------------------\")"
   ]
  },
  {
   "cell_type": "code",
   "execution_count": 56,
   "metadata": {},
   "outputs": [
    {
     "name": "stdout",
     "output_type": "stream",
     "text": [
      "Roll Number of the student ::  1\n",
      "Name of the student ::  Hari\n",
      "Marks scored in subject #1 =  50\n",
      "Marks scored in subject #2 =  70\n",
      "Marks scored in subject #3 =  90\n",
      "Total of all subject marks scored ::  210\n",
      "Average of the marks scored ::  70.0\n",
      "*****************************************************\n",
      "Roll Number of the student ::  2\n",
      "Name of the student ::  Rama\n",
      "Marks scored in subject #1 =  80\n",
      "Marks scored in subject #2 =  90\n",
      "Marks scored in subject #3 =  75\n",
      "Total of all subject marks scored ::  245\n",
      "Average of the marks scored ::  81.66666666666667\n",
      "*****************************************************\n",
      "Roll Number of the student ::  3\n",
      "Name of the student ::  Kiran\n",
      "Marks scored in subject #1 =  75.25\n",
      "Marks scored in subject #2 =  90\n",
      "Marks scored in subject #3 =  95.45\n",
      "Total of all subject marks scored ::  260.7\n",
      "Average of the marks scored ::  86.89999999999999\n",
      "*****************************************************\n"
     ]
    }
   ],
   "source": [
    "i=0\n",
    "while(i<len(studs)):\n",
    "    studs[i].dispStudDtls()\n",
    "    i+=1\n",
    "    print(\"*****************************************************\")"
   ]
  },
  {
   "cell_type": "code",
   "execution_count": null,
   "metadata": {},
   "outputs": [],
   "source": []
  }
 ],
 "metadata": {
  "kernelspec": {
   "display_name": "Python 3",
   "language": "python",
   "name": "python3"
  },
  "language_info": {
   "codemirror_mode": {
    "name": "ipython",
    "version": 3
   },
   "file_extension": ".py",
   "mimetype": "text/x-python",
   "name": "python",
   "nbconvert_exporter": "python",
   "pygments_lexer": "ipython3",
   "version": "3.7.1"
  }
 },
 "nbformat": 4,
 "nbformat_minor": 2
}
