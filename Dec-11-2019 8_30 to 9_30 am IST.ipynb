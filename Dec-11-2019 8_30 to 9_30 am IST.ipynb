{
 "cells": [
  {
   "cell_type": "code",
   "execution_count": 14,
   "metadata": {},
   "outputs": [],
   "source": [
    "class Student:\n",
    "    def storeStudData(self,rno,sna,mk1=0,mk2=0,mk3=0):\n",
    "        self.rollno = rno\n",
    "        self.sname = sna\n",
    "        self.m1 = mk1\n",
    "        self.m2 = mk2\n",
    "        self.m3 = mk3\n",
    "        \n",
    "    def dispTotMks(self):\n",
    "        print(\"Total marks scored :: \",self.m1+self.m2+self.m3)\n",
    "        \n",
    "    def dispAvgMks(self):\n",
    "        print(\"Average of the marks scored :: \",(self.m1+self.m2+self.m3)/3)\n",
    "        \n",
    "    def dispStudDtls(self):\n",
    "        print(\"Roll Number of the student :: \",self.rollno)\n",
    "        print(\"Name of the student :: \",self.sname)\n",
    "        print(\"Marks scored in Subject #1 :: \",self.m1)\n",
    "        print(\"Marks scored in Subject #2 :: \",self.m2)\n",
    "        print(\"Marks scored in Subject #3 :: \",self.m3)\n",
    "        self.dispTotMks()\n",
    "        self.dispAvgMks()\n",
    "        "
   ]
  },
  {
   "cell_type": "code",
   "execution_count": null,
   "metadata": {},
   "outputs": [],
   "source": []
  },
  {
   "cell_type": "code",
   "execution_count": 15,
   "metadata": {},
   "outputs": [],
   "source": [
    "s1 = Student()"
   ]
  },
  {
   "cell_type": "code",
   "execution_count": 16,
   "metadata": {},
   "outputs": [],
   "source": [
    "s1.storeStudData(1,'Amit',50,60,70)"
   ]
  },
  {
   "cell_type": "code",
   "execution_count": 17,
   "metadata": {},
   "outputs": [
    {
     "name": "stdout",
     "output_type": "stream",
     "text": [
      "Roll Number of the student ::  1\n",
      "Name of the student ::  Amit\n",
      "Marks scored in Subject #1 ::  50\n",
      "Marks scored in Subject #2 ::  60\n",
      "Marks scored in Subject #3 ::  70\n",
      "Total marks scored ::  180\n",
      "Average of the marks scored ::  60.0\n"
     ]
    }
   ],
   "source": [
    "s1.dispStudDtls()"
   ]
  },
  {
   "cell_type": "code",
   "execution_count": 6,
   "metadata": {},
   "outputs": [],
   "source": [
    "s2 = Student()\n",
    "s3 = Student()"
   ]
  },
  {
   "cell_type": "code",
   "execution_count": 7,
   "metadata": {},
   "outputs": [],
   "source": [
    "s2.storeStudData(2,'Anil',80,90.25,78.45)"
   ]
  },
  {
   "cell_type": "code",
   "execution_count": 8,
   "metadata": {},
   "outputs": [],
   "source": [
    "s3.storeStudData(3,'Hari',90,80,60)"
   ]
  },
  {
   "cell_type": "code",
   "execution_count": 9,
   "metadata": {},
   "outputs": [
    {
     "name": "stdout",
     "output_type": "stream",
     "text": [
      "Roll Number of the student ::  3\n",
      "Name of the student ::  Hari\n",
      "Marks scored in Subject #1 ::  90\n",
      "Marks scored in Subject #2 ::  80\n",
      "Marks scored in Subject #3 ::  60\n",
      "Total marks scored ::  230\n",
      "Average of the marks scored ::  76.66666666666667\n"
     ]
    }
   ],
   "source": [
    "s3.dispStudDtls()"
   ]
  },
  {
   "cell_type": "code",
   "execution_count": 10,
   "metadata": {},
   "outputs": [
    {
     "name": "stdout",
     "output_type": "stream",
     "text": [
      "Roll Number of the student ::  2\n",
      "Name of the student ::  Anil\n",
      "Marks scored in Subject #1 ::  80\n",
      "Marks scored in Subject #2 ::  90.25\n",
      "Marks scored in Subject #3 ::  78.45\n",
      "Total marks scored ::  248.7\n",
      "Average of the marks scored ::  82.89999999999999\n"
     ]
    }
   ],
   "source": [
    "s2.dispStudDtls()"
   ]
  },
  {
   "cell_type": "code",
   "execution_count": 11,
   "metadata": {},
   "outputs": [],
   "source": [
    "s = [Student(),Student(),Student()]"
   ]
  },
  {
   "cell_type": "code",
   "execution_count": 12,
   "metadata": {},
   "outputs": [],
   "source": [
    "s[0].storeStudData(101,'Karan',90,70,50)\n",
    "s[1].storeStudData(202,'Harry',70,80,90)\n",
    "s[2].storeStudData(203,'James',40,50,60)"
   ]
  },
  {
   "cell_type": "code",
   "execution_count": 13,
   "metadata": {},
   "outputs": [
    {
     "name": "stdout",
     "output_type": "stream",
     "text": [
      "Roll Number of the student ::  101\n",
      "Name of the student ::  Karan\n",
      "Marks scored in Subject #1 ::  90\n",
      "Marks scored in Subject #2 ::  70\n",
      "Marks scored in Subject #3 ::  50\n",
      "Total marks scored ::  210\n",
      "Average of the marks scored ::  70.0\n",
      "----------------------------------------------------\n",
      "Roll Number of the student ::  202\n",
      "Name of the student ::  Harry\n",
      "Marks scored in Subject #1 ::  70\n",
      "Marks scored in Subject #2 ::  80\n",
      "Marks scored in Subject #3 ::  90\n",
      "Total marks scored ::  240\n",
      "Average of the marks scored ::  80.0\n",
      "----------------------------------------------------\n",
      "Roll Number of the student ::  203\n",
      "Name of the student ::  James\n",
      "Marks scored in Subject #1 ::  40\n",
      "Marks scored in Subject #2 ::  50\n",
      "Marks scored in Subject #3 ::  60\n",
      "Total marks scored ::  150\n",
      "Average of the marks scored ::  50.0\n",
      "----------------------------------------------------\n"
     ]
    }
   ],
   "source": [
    "for stud in s:\n",
    "    stud.dispStudDtls()\n",
    "    print(\"----------------------------------------------------\")"
   ]
  },
  {
   "cell_type": "code",
   "execution_count": 18,
   "metadata": {},
   "outputs": [],
   "source": [
    "s = Student()"
   ]
  },
  {
   "cell_type": "code",
   "execution_count": 19,
   "metadata": {},
   "outputs": [],
   "source": [
    "s.storeStudData(1,'Amit')"
   ]
  },
  {
   "cell_type": "code",
   "execution_count": 20,
   "metadata": {},
   "outputs": [
    {
     "name": "stdout",
     "output_type": "stream",
     "text": [
      "Roll Number of the student ::  1\n",
      "Name of the student ::  Amit\n",
      "Marks scored in Subject #1 ::  0\n",
      "Marks scored in Subject #2 ::  0\n",
      "Marks scored in Subject #3 ::  0\n",
      "Total marks scored ::  0\n",
      "Average of the marks scored ::  0.0\n"
     ]
    }
   ],
   "source": [
    "s.dispStudDtls()"
   ]
  },
  {
   "cell_type": "code",
   "execution_count": 21,
   "metadata": {},
   "outputs": [],
   "source": [
    "s = Student()"
   ]
  },
  {
   "cell_type": "code",
   "execution_count": 22,
   "metadata": {},
   "outputs": [
    {
     "ename": "TypeError",
     "evalue": "storeStudData() takes from 3 to 6 positional arguments but 8 were given",
     "output_type": "error",
     "traceback": [
      "\u001b[1;31m---------------------------------------------------------------------------\u001b[0m",
      "\u001b[1;31mTypeError\u001b[0m                                 Traceback (most recent call last)",
      "\u001b[1;32m<ipython-input-22-ce3c46558625>\u001b[0m in \u001b[0;36m<module>\u001b[1;34m\u001b[0m\n\u001b[1;32m----> 1\u001b[1;33m \u001b[0ms\u001b[0m\u001b[1;33m.\u001b[0m\u001b[0mstoreStudData\u001b[0m\u001b[1;33m(\u001b[0m\u001b[1;36m1\u001b[0m\u001b[1;33m,\u001b[0m\u001b[1;34m'Akhil'\u001b[0m\u001b[1;33m,\u001b[0m\u001b[1;36m50\u001b[0m\u001b[1;33m,\u001b[0m\u001b[1;36m60\u001b[0m\u001b[1;33m,\u001b[0m\u001b[1;36m70\u001b[0m\u001b[1;33m,\u001b[0m\u001b[1;36m80\u001b[0m\u001b[1;33m,\u001b[0m\u001b[1;36m90\u001b[0m\u001b[1;33m)\u001b[0m\u001b[1;33m\u001b[0m\u001b[1;33m\u001b[0m\u001b[0m\n\u001b[0m",
      "\u001b[1;31mTypeError\u001b[0m: storeStudData() takes from 3 to 6 positional arguments but 8 were given"
     ]
    }
   ],
   "source": [
    "s.storeStudData(1,'Akhil',50,60,70,80,90)"
   ]
  },
  {
   "cell_type": "code",
   "execution_count": 65,
   "metadata": {},
   "outputs": [],
   "source": [
    "class Student:\n",
    "    def storeStudData(self,rno,sna,mks=0):\n",
    "        self.rno = rno\n",
    "        self.sna = sna\n",
    "        self.mks = mks\n",
    "        \n",
    "    def getTotMks(self):\n",
    "        tot=0\n",
    "        for m in self.mks:\n",
    "            tot+=m\n",
    "            \n",
    "        return tot\n",
    "    \n",
    "    def getAvgMks(self):\n",
    "        return (self.getTotMks()/len(self.mks))\n",
    "    \n",
    "    def dispStudDtls(self):\n",
    "        print(\"Roll Number of the student :: \",self.rno)\n",
    "        print(\"Name of the student :: \",self.sna)\n",
    "        if(type(self.mks) == list or type(self.mks) == tuple ):\n",
    "            for i in range(len(self.mks)):\n",
    "                print(\"Marks scored in subject #\",(i+1),\" :: \",self.mks[i])\n",
    "            print(\"Total Of the marks scored :: \",self.getTotMks())\n",
    "            print(\"Average of the marks scored :: \",self.getAvgMks())\n",
    "        "
   ]
  },
  {
   "cell_type": "code",
   "execution_count": 28,
   "metadata": {},
   "outputs": [],
   "source": [
    "# The following code creates a student object\n",
    "s1 = Student()"
   ]
  },
  {
   "cell_type": "code",
   "execution_count": 29,
   "metadata": {},
   "outputs": [],
   "source": [
    "# Initializing the contents of the student object.\n",
    "s1.storeStudData(1,'James',[50,60,70,80,90])"
   ]
  },
  {
   "cell_type": "code",
   "execution_count": 30,
   "metadata": {},
   "outputs": [
    {
     "name": "stdout",
     "output_type": "stream",
     "text": [
      "Roll Number of the student ::  1\n",
      "Name of the student ::  James\n",
      "Marks scored in subject # 1  ::  50\n",
      "Marks scored in subject # 2  ::  60\n",
      "Marks scored in subject # 3  ::  70\n",
      "Marks scored in subject # 4  ::  80\n",
      "Marks scored in subject # 5  ::  90\n",
      "Total Of the marks scored ::  350\n",
      "Average of the marks scored ::  70.0\n"
     ]
    }
   ],
   "source": [
    "s1.dispStudDtls()"
   ]
  },
  {
   "cell_type": "code",
   "execution_count": 31,
   "metadata": {},
   "outputs": [],
   "source": [
    "s2 = Student()"
   ]
  },
  {
   "cell_type": "code",
   "execution_count": 32,
   "metadata": {},
   "outputs": [],
   "source": [
    "s2.storeStudData(2,'Mahendra',(50,90))"
   ]
  },
  {
   "cell_type": "code",
   "execution_count": 33,
   "metadata": {},
   "outputs": [
    {
     "name": "stdout",
     "output_type": "stream",
     "text": [
      "Roll Number of the student ::  2\n",
      "Name of the student ::  Mahendra\n",
      "Marks scored in subject # 1  ::  50\n",
      "Marks scored in subject # 2  ::  90\n",
      "Total Of the marks scored ::  140\n",
      "Average of the marks scored ::  70.0\n"
     ]
    }
   ],
   "source": [
    "s2.dispStudDtls()"
   ]
  },
  {
   "cell_type": "code",
   "execution_count": 34,
   "metadata": {},
   "outputs": [],
   "source": [
    "#Creating a list of student objects.\n",
    "s = [Student(),Student(),Student()]"
   ]
  },
  {
   "cell_type": "code",
   "execution_count": 35,
   "metadata": {},
   "outputs": [],
   "source": [
    "#Initializing the details of each and every student objects contents\n",
    "s[0].storeStudData(101,'Hari',(30,40,50,45))\n",
    "s[1].storeStudData(102,'Rama',[45,55,65])\n",
    "s[2].storeStudData(103,'Kalyan',[70])"
   ]
  },
  {
   "cell_type": "code",
   "execution_count": 37,
   "metadata": {},
   "outputs": [
    {
     "name": "stdout",
     "output_type": "stream",
     "text": [
      "Roll Number of the student ::  101\n",
      "Name of the student ::  Hari\n",
      "Marks scored in subject # 1  ::  30\n",
      "Marks scored in subject # 2  ::  40\n",
      "Marks scored in subject # 3  ::  50\n",
      "Marks scored in subject # 4  ::  45\n",
      "Total Of the marks scored ::  165\n",
      "Average of the marks scored ::  41.25\n",
      "------------------------------\n",
      "Roll Number of the student ::  102\n",
      "Name of the student ::  Rama\n",
      "Marks scored in subject # 1  ::  45\n",
      "Marks scored in subject # 2  ::  55\n",
      "Marks scored in subject # 3  ::  65\n",
      "Total Of the marks scored ::  165\n",
      "Average of the marks scored ::  55.0\n",
      "------------------------------\n",
      "Roll Number of the student ::  103\n",
      "Name of the student ::  Kalyan\n",
      "Marks scored in subject # 1  ::  70\n",
      "Total Of the marks scored ::  70\n",
      "Average of the marks scored ::  70.0\n",
      "------------------------------\n"
     ]
    }
   ],
   "source": [
    "for stud in s:\n",
    "    stud.dispStudDtls()\n",
    "    print(\"------------------------------\")"
   ]
  },
  {
   "cell_type": "code",
   "execution_count": 66,
   "metadata": {},
   "outputs": [],
   "source": [
    "s = Student()"
   ]
  },
  {
   "cell_type": "code",
   "execution_count": 67,
   "metadata": {},
   "outputs": [],
   "source": [
    "s.storeStudData(105,'Arjun')"
   ]
  },
  {
   "cell_type": "code",
   "execution_count": 68,
   "metadata": {},
   "outputs": [
    {
     "name": "stdout",
     "output_type": "stream",
     "text": [
      "Roll Number of the student ::  105\n",
      "Name of the student ::  Arjun\n"
     ]
    }
   ],
   "source": [
    "s.dispStudDtls()"
   ]
  },
  {
   "cell_type": "code",
   "execution_count": 61,
   "metadata": {},
   "outputs": [],
   "source": [
    "s = [1,2,3,4]"
   ]
  },
  {
   "cell_type": "code",
   "execution_count": 62,
   "metadata": {},
   "outputs": [
    {
     "data": {
      "text/plain": [
       "list"
      ]
     },
     "execution_count": 62,
     "metadata": {},
     "output_type": "execute_result"
    }
   ],
   "source": [
    "type(s)"
   ]
  },
  {
   "cell_type": "code",
   "execution_count": 63,
   "metadata": {},
   "outputs": [],
   "source": [
    "s = (1,2,3,4)"
   ]
  },
  {
   "cell_type": "code",
   "execution_count": 64,
   "metadata": {},
   "outputs": [
    {
     "data": {
      "text/plain": [
       "tuple"
      ]
     },
     "execution_count": 64,
     "metadata": {},
     "output_type": "execute_result"
    }
   ],
   "source": [
    "type(s)"
   ]
  },
  {
   "cell_type": "code",
   "execution_count": 69,
   "metadata": {},
   "outputs": [],
   "source": [
    "class TCls1:\n",
    "    def storeData(self,a,b):\n",
    "        self.a = a\n",
    "        self.b = b\n",
    "        \n",
    "    def dispData(self):\n",
    "        print(\"a = \",self.a)\n",
    "        print(\"b = \",self.b)"
   ]
  },
  {
   "cell_type": "code",
   "execution_count": 70,
   "metadata": {},
   "outputs": [],
   "source": [
    "# The following statement creates an object of TCls1\n",
    "obj1 = TCls1()"
   ]
  },
  {
   "cell_type": "code",
   "execution_count": 71,
   "metadata": {},
   "outputs": [],
   "source": [
    "# Initializing the content of the TCls1 object that we have created in the above statement.\n",
    "obj1.storeData(5,10)"
   ]
  },
  {
   "cell_type": "code",
   "execution_count": 72,
   "metadata": {},
   "outputs": [
    {
     "name": "stdout",
     "output_type": "stream",
     "text": [
      "a =  5\n",
      "b =  10\n"
     ]
    }
   ],
   "source": [
    "#Displaying the contents of the TCls1 object\n",
    "obj1.dispData()"
   ]
  },
  {
   "cell_type": "code",
   "execution_count": 73,
   "metadata": {},
   "outputs": [],
   "source": [
    "obj2 = TCls1()"
   ]
  },
  {
   "cell_type": "code",
   "execution_count": 74,
   "metadata": {},
   "outputs": [
    {
     "ename": "AttributeError",
     "evalue": "'TCls1' object has no attribute 'a'",
     "output_type": "error",
     "traceback": [
      "\u001b[1;31m---------------------------------------------------------------------------\u001b[0m",
      "\u001b[1;31mAttributeError\u001b[0m                            Traceback (most recent call last)",
      "\u001b[1;32m<ipython-input-74-65196247d03f>\u001b[0m in \u001b[0;36m<module>\u001b[1;34m\u001b[0m\n\u001b[1;32m----> 1\u001b[1;33m \u001b[0mobj2\u001b[0m\u001b[1;33m.\u001b[0m\u001b[0mdispData\u001b[0m\u001b[1;33m(\u001b[0m\u001b[1;33m)\u001b[0m\u001b[1;33m\u001b[0m\u001b[1;33m\u001b[0m\u001b[0m\n\u001b[0m",
      "\u001b[1;32m<ipython-input-69-19762cd405fc>\u001b[0m in \u001b[0;36mdispData\u001b[1;34m(self)\u001b[0m\n\u001b[0;32m      5\u001b[0m \u001b[1;33m\u001b[0m\u001b[0m\n\u001b[0;32m      6\u001b[0m     \u001b[1;32mdef\u001b[0m \u001b[0mdispData\u001b[0m\u001b[1;33m(\u001b[0m\u001b[0mself\u001b[0m\u001b[1;33m)\u001b[0m\u001b[1;33m:\u001b[0m\u001b[1;33m\u001b[0m\u001b[1;33m\u001b[0m\u001b[0m\n\u001b[1;32m----> 7\u001b[1;33m         \u001b[0mprint\u001b[0m\u001b[1;33m(\u001b[0m\u001b[1;34m\"a = \"\u001b[0m\u001b[1;33m,\u001b[0m\u001b[0mself\u001b[0m\u001b[1;33m.\u001b[0m\u001b[0ma\u001b[0m\u001b[1;33m)\u001b[0m\u001b[1;33m\u001b[0m\u001b[1;33m\u001b[0m\u001b[0m\n\u001b[0m\u001b[0;32m      8\u001b[0m         \u001b[0mprint\u001b[0m\u001b[1;33m(\u001b[0m\u001b[1;34m\"b = \"\u001b[0m\u001b[1;33m,\u001b[0m\u001b[0mself\u001b[0m\u001b[1;33m.\u001b[0m\u001b[0mb\u001b[0m\u001b[1;33m)\u001b[0m\u001b[1;33m\u001b[0m\u001b[1;33m\u001b[0m\u001b[0m\n",
      "\u001b[1;31mAttributeError\u001b[0m: 'TCls1' object has no attribute 'a'"
     ]
    }
   ],
   "source": [
    "obj2.dispData()"
   ]
  },
  {
   "cell_type": "code",
   "execution_count": 75,
   "metadata": {},
   "outputs": [],
   "source": [
    "class TCls1:\n",
    "    def __init__(self):\n",
    "        print(\"__init__/Constuctor method is called and the object is created and initialized \")"
   ]
  },
  {
   "cell_type": "code",
   "execution_count": 76,
   "metadata": {},
   "outputs": [
    {
     "name": "stdout",
     "output_type": "stream",
     "text": [
      "__init__/Constuctor method is called and the object is created and initialized \n"
     ]
    }
   ],
   "source": [
    "a = TCls1()"
   ]
  },
  {
   "cell_type": "code",
   "execution_count": 77,
   "metadata": {},
   "outputs": [
    {
     "name": "stdout",
     "output_type": "stream",
     "text": [
      "__init__/Constuctor method is called and the object is created and initialized \n"
     ]
    }
   ],
   "source": [
    "b = TCls1()"
   ]
  },
  {
   "cell_type": "code",
   "execution_count": 78,
   "metadata": {},
   "outputs": [
    {
     "name": "stdout",
     "output_type": "stream",
     "text": [
      "__init__/Constuctor method is called and the object is created and initialized \n",
      "__init__/Constuctor method is called and the object is created and initialized \n",
      "__init__/Constuctor method is called and the object is created and initialized \n"
     ]
    }
   ],
   "source": [
    "samp = [ TCls1(), TCls1(), TCls1()]"
   ]
  },
  {
   "cell_type": "code",
   "execution_count": 79,
   "metadata": {},
   "outputs": [],
   "source": [
    "class TCls1:\n",
    "    def __init__(self,a,b):\n",
    "        self.a=a\n",
    "        self.b = b\n",
    "        \n",
    "    def dispData(self):\n",
    "        print('Contents of the first member a = ',self.a)\n",
    "        print('Contents of the second member b = ',self.b)"
   ]
  },
  {
   "cell_type": "code",
   "execution_count": 83,
   "metadata": {},
   "outputs": [],
   "source": [
    "# The following code creates an object obj1 and also initializes the contents of the two member variables a and b\n",
    "obj1 = TCls1(2,3)"
   ]
  },
  {
   "cell_type": "code",
   "execution_count": 84,
   "metadata": {},
   "outputs": [
    {
     "name": "stdout",
     "output_type": "stream",
     "text": [
      "Contents of the first member a =  2\n",
      "Contents of the second member b =  3\n"
     ]
    }
   ],
   "source": [
    "obj1.dispData()"
   ]
  },
  {
   "cell_type": "code",
   "execution_count": 90,
   "metadata": {},
   "outputs": [],
   "source": [
    "class Student:\n",
    "    def __init__(self,rno,sna,mks=0):\n",
    "        self.rno = rno\n",
    "        self.sna = sna\n",
    "        self.mks = mks\n",
    "        \n",
    "    def getTotMks(self):\n",
    "        tot=0\n",
    "        for m in self.mks:\n",
    "            tot+=m\n",
    "            \n",
    "        return tot\n",
    "    \n",
    "    def getAvgMks(self):\n",
    "        return (self.getTotMks()/len(self.mks))\n",
    "    \n",
    "    def dispStudDtls(self):\n",
    "        print(\"Roll Number of the student :: \",self.rno)\n",
    "        print(\"Name of the student :: \",self.sna)\n",
    "        if(type(self.mks) == list or type(self.mks) == tuple ):\n",
    "            for i in range(len(self.mks)):\n",
    "                print(\"Marks scored in subject #\",(i+1),\" :: \",self.mks[i])\n",
    "            print(\"Total Of the marks scored :: \",self.getTotMks())\n",
    "            print(\"Average of the marks scored :: \",self.getAvgMks())\n",
    "    "
   ]
  },
  {
   "cell_type": "code",
   "execution_count": 87,
   "metadata": {},
   "outputs": [],
   "source": [
    "s1 = Student(1,'Rama',[50,60,70])"
   ]
  },
  {
   "cell_type": "code",
   "execution_count": 88,
   "metadata": {},
   "outputs": [
    {
     "name": "stdout",
     "output_type": "stream",
     "text": [
      "Roll Number of the student ::  1\n",
      "Name of the student ::  Rama\n",
      "Marks scored in subject # 1  ::  50\n",
      "Marks scored in subject # 2  ::  60\n",
      "Marks scored in subject # 3  ::  70\n",
      "Total Of the marks scored ::  180\n",
      "Average of the marks scored ::  60.0\n"
     ]
    }
   ],
   "source": [
    "s1.dispStudDtls()"
   ]
  },
  {
   "cell_type": "code",
   "execution_count": 91,
   "metadata": {},
   "outputs": [],
   "source": [
    "studs = [Student(101,'Amit',[50,60]),Student(102,'Hari',(70,80,90,100)),Student(105,'Harry')]"
   ]
  },
  {
   "cell_type": "code",
   "execution_count": 92,
   "metadata": {},
   "outputs": [
    {
     "name": "stdout",
     "output_type": "stream",
     "text": [
      "Roll Number of the student ::  101\n",
      "Name of the student ::  Amit\n",
      "Marks scored in subject # 1  ::  50\n",
      "Marks scored in subject # 2  ::  60\n",
      "Total Of the marks scored ::  110\n",
      "Average of the marks scored ::  55.0\n",
      "-----------------------\n",
      "Roll Number of the student ::  102\n",
      "Name of the student ::  Hari\n",
      "Marks scored in subject # 1  ::  70\n",
      "Marks scored in subject # 2  ::  80\n",
      "Marks scored in subject # 3  ::  90\n",
      "Marks scored in subject # 4  ::  100\n",
      "Total Of the marks scored ::  340\n",
      "Average of the marks scored ::  85.0\n",
      "-----------------------\n",
      "Roll Number of the student ::  105\n",
      "Name of the student ::  Harry\n",
      "-----------------------\n"
     ]
    }
   ],
   "source": [
    "for s in studs:\n",
    "    s.dispStudDtls()\n",
    "    print(\"-----------------------\")"
   ]
  },
  {
   "cell_type": "code",
   "execution_count": null,
   "metadata": {},
   "outputs": [],
   "source": []
  }
 ],
 "metadata": {
  "kernelspec": {
   "display_name": "Python 3",
   "language": "python",
   "name": "python3"
  },
  "language_info": {
   "codemirror_mode": {
    "name": "ipython",
    "version": 3
   },
   "file_extension": ".py",
   "mimetype": "text/x-python",
   "name": "python",
   "nbconvert_exporter": "python",
   "pygments_lexer": "ipython3",
   "version": "3.7.1"
  }
 },
 "nbformat": 4,
 "nbformat_minor": 2
}
